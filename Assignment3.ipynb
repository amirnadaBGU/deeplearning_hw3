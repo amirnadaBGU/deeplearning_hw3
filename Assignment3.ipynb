{
 "cells": [
  {
   "cell_type": "markdown",
   "metadata": {
    "id": "V88HswjzApoz"
   },
   "source": [
    "# Deep Learning and Its Applications to Signal and Image Processing and Analysis - Assignment 3\n"
   ]
  },
  {
   "cell_type": "markdown",
   "metadata": {
    "id": "J435x4PWJF0A"
   },
   "source": [
    "## Introduction\n",
    "In this assignment, you will perform an image classification task on the CIFAR-10 dataset using two\n",
    "model families: Convolutional Neural Networks (CNNs) and Vision Transformers (ViTs). The objectives\n",
    "are to develop models, apply explainability tools (Grad-CAM and attention visualization), and evaluate\n",
    "comparative performance using confusion matrices and other metrics. In this assignment, you will also\n",
    "learn how to use the pytorch-lightning library. This library simplifies model building and training, and\n",
    "it also supports automatic logging to Weights & Biases. There is a complementary notebook attached\n",
    "to the assignment. A complementary notebook is provided with this assignment. It is intended for your\n",
    "convenience, and you are free to modify it as needed."
   ]
  },
  {
   "cell_type": "markdown",
   "metadata": {
    "id": "vMV6DvqCNibL"
   },
   "source": "### Imports and mount drive - in this notebook i will work on my own pc. so do not need to use colab syntax"
  },
  {
   "cell_type": "code",
   "metadata": {
    "id": "scJPk5R6GMQu",
    "ExecuteTime": {
     "end_time": "2025-05-13T15:54:41.348747Z",
     "start_time": "2025-05-13T15:54:30.228053Z"
    }
   },
   "source": [
    "from typing import Any\n",
    "\n",
    "import numpy as np\n",
    "# skip this\n",
    "# !pip install pytorch-lightning\n",
    "# skip that\n",
    "# 📦 Imports\n",
    "import torch\n",
    "import torch.nn as nn\n",
    "import torch.nn.functional as F\n",
    "import torchvision\n",
    "import torchvision.transforms as transforms\n",
    "from torch.utils.data import random_split, DataLoader, Subset\n",
    "\n",
    "import pytorch_lightning as pl\n",
    "from twisted.mail.scripts.mailmail import success\n",
    "\n",
    "import wandb\n",
    "\n",
    "import matplotlib.pyplot as plt\n",
    "import seaborn as sns\n",
    "from sklearn.metrics import confusion_matrix, ConfusionMatrixDisplay\n",
    "\n",
    "# 🧹 Set seeds and configs\n",
    "pl.seed_everything(42)"
   ],
   "outputs": [
    {
     "name": "stderr",
     "output_type": "stream",
     "text": [
      "Seed set to 42\n"
     ]
    },
    {
     "data": {
      "text/plain": [
       "42"
      ]
     },
     "execution_count": 1,
     "metadata": {},
     "output_type": "execute_result"
    }
   ],
   "execution_count": 1
  },
  {
   "cell_type": "code",
   "metadata": {
    "colab": {
     "base_uri": "https://localhost:8080/"
    },
    "id": "K4gUQ3-MSj4g",
    "outputId": "991b983e-03ba-46e9-cc4c-1670ebc80ee4",
    "ExecuteTime": {
     "end_time": "2025-05-13T15:54:41.366262Z",
     "start_time": "2025-05-13T15:54:41.363814Z"
    }
   },
   "source": [
    "# skip this\n",
    "# from google.colab import drive\n",
    "# drive.mount('/content/drive')\n",
    "# skip that"
   ],
   "outputs": [],
   "execution_count": 2
  },
  {
   "cell_type": "code",
   "metadata": {
    "id": "OR-WkNcpSqP1",
    "ExecuteTime": {
     "end_time": "2025-05-13T15:54:41.430105Z",
     "start_time": "2025-05-13T15:54:41.427907Z"
    }
   },
   "source": [
    "import os\n",
    "# os.chdir('')"
   ],
   "outputs": [],
   "execution_count": 3
  },
  {
   "cell_type": "markdown",
   "metadata": {
    "id": "M8XeebVJOK2u"
   },
   "source": [
    "## 1. CNN Classification and Grad-CAM Explainability"
   ]
  },
  {
   "cell_type": "markdown",
   "metadata": {
    "id": "fsyAmozEJN-C"
   },
   "source": [
    "In this section, you will implement a CNN from scratch and apply Grad-CAM to explain the model predictions."
   ]
  },
  {
   "cell_type": "markdown",
   "metadata": {
    "id": "ecrqustYN6kL"
   },
   "source": [
    "###  1.1. Load and Preprocess CIFAR-10"
   ]
  },
  {
   "cell_type": "markdown",
   "metadata": {
    "id": "U9vLbKvJBswB"
   },
   "source": "a. load dataset:"
  },
  {
   "metadata": {
    "id": "1KF7SJaBNnZc",
    "ExecuteTime": {
     "end_time": "2025-05-13T15:54:42.686409Z",
     "start_time": "2025-05-13T15:54:41.433110Z"
    }
   },
   "cell_type": "code",
   "source": [
    "# Define a transform to normalize the data\n",
    "# Widely‑used baseline\n",
    "cifar10_mean = (0.4914, 0.4822, 0.4465)\n",
    "cifar10_std  = (0.2470, 0.2435, 0.2616)\n",
    "\n",
    "# Source 1 for values: https://github.com/kuangliu/pytorch-cifar/issues/19\n",
    "# Source 2 for values: https://stackoverflow.com/questions/69747119/pytorch-cifar10-images-are-not-normalized\n",
    "\n",
    "transform = transforms.Compose([\n",
    "    transforms.ToTensor(),\n",
    "    transforms.Normalize(cifar10_mean, cifar10_std),\n",
    "])\n",
    "\n",
    "#⬇️ Load dataset\n",
    "dataset = torchvision.datasets.CIFAR10(root='./data', train=True, download=True, transform=transform)\n",
    "test_dataset = torchvision.datasets.CIFAR10(root='./data', train=False, download=True, transform=transform)\n"
   ],
   "outputs": [],
   "execution_count": 4
  },
  {
   "metadata": {},
   "cell_type": "markdown",
   "source": "a.plot sample images:"
  },
  {
   "metadata": {
    "ExecuteTime": {
     "end_time": "2025-05-13T15:54:43.390851Z",
     "start_time": "2025-05-13T15:54:42.696675Z"
    }
   },
   "cell_type": "code",
   "source": [
    "import random\n",
    "import numpy as np\n",
    "def get_class_name_from_idx(dictionary,idx):\n",
    "    for key, value in dictionary.items():\n",
    "        if value == idx:\n",
    "            return key\n",
    "def show_example_per_label(dataset):\n",
    "    sample_targets = []\n",
    "    sample_indices = []\n",
    "    random.seed(423)\n",
    "    for k,target in enumerate(dataset.targets):\n",
    "        if random.random() < 0.05: # get different images every time\n",
    "            if not target in sample_targets:\n",
    "                sample_indices.append(k)\n",
    "                sample_targets.append(target)\n",
    "    sorted_indices_by_target = np.argsort(sample_targets)\n",
    "\n",
    "    fig, axs = plt.subplots(nrows=2, ncols=5, figsize=(20, 10))\n",
    "\n",
    "    row = 0\n",
    "    index = 0\n",
    "    switchbool= False\n",
    "    for k in sorted_indices_by_target:\n",
    "        axs[row,index]. grid(False)\n",
    "        axs[row,index].set_title(f\"Example of category: {sample_targets[k]} - {get_class_name_from_idx(dataset.class_to_idx,sample_targets[k])}\")\n",
    "        axs[row,index].imshow(dataset.data[sample_indices[k]])\n",
    "        index+=1\n",
    "        if index > 4 and switchbool== False:\n",
    "            switchbool = True\n",
    "            row = 1\n",
    "            index = 0\n",
    "    fig.tight_layout()\n",
    "    plt.show()\n",
    "show_example_per_label(dataset)"
   ],
   "outputs": [
    {
     "data": {
      "text/plain": [
       "<Figure size 2000x1000 with 10 Axes>"
      ],
      "image/png": "[encoded data removed]"
     },
     "metadata": {},
     "output_type": "display_data"
    }
   ],
   "execution_count": 5
  },
  {
   "cell_type": "markdown",
   "metadata": {
    "id": "Z1CCx4koBp9g"
   },
   "source": "b. split - 30k train, 20k valid, 10k test (50,33.33,16.66)"
  },
  {
   "metadata": {
    "ExecuteTime": {
     "end_time": "2025-05-13T15:56:45.795910Z",
     "start_time": "2025-05-13T15:56:45.773017Z"
    }
   },
   "cell_type": "code",
   "source": [
    "from sklearn.model_selection import train_test_split\n",
    "targets = dataset.targets\n",
    "\n",
    "train_idx, valid_idx= train_test_split(\n",
    "    np.arange(len(targets)), test_size=0.4, random_state=24, shuffle=True, stratify=targets)\n",
    "\n",
    "train_dataset = Subset(dataset, train_idx)\n",
    "validation_dataset = Subset(dataset, valid_idx)\n",
    "\n",
    "print(\"Train dataset:\" + str(len(train_dataset)))\n",
    "print(\"Validation dataset:\" + str(len(validation_dataset)))\n",
    "print(\"Test dataset:\" + str(len(test_dataset)))\n"
   ],
   "outputs": [
    {
     "name": "stdout",
     "output_type": "stream",
     "text": [
      "Train dataset:30000\n",
      "Validation dataset:20000\n",
      "Test dataset:10000\n"
     ]
    }
   ],
   "execution_count": 6
  },
  {
   "cell_type": "markdown",
   "metadata": {
    "id": "S5Nc6iLqCt3N"
   },
   "source": "c. preview categories histogram in each dataset"
  },
  {
   "cell_type": "code",
   "metadata": {
    "id": "1e4FXUTRCv86",
    "ExecuteTime": {
     "end_time": "2025-05-13T15:56:49.571521Z",
     "start_time": "2025-05-13T15:56:49.098888Z"
    }
   },
   "source": [
    "def plot_categories_histograms(set,header):\n",
    "    # Extract class labels from the original dataset (Subset stores indices)\n",
    "    # Supports subset or full dataset via try except mechanism on input\n",
    "    try:\n",
    "        labels = [set.dataset.targets[i] for i in set.indices]\n",
    "    except:\n",
    "        labels = [set.targets[i] for i in range(len(set.targets))]\n",
    "    # Creating histogram dicts:\n",
    "    counting_dict={}\n",
    "    for k in range(10):\n",
    "        counting_dict[k]=0\n",
    "    # Count occurrences of each class\n",
    "    for i,value in enumerate(np.array(labels)):\n",
    "        counting_dict[value] +=1\n",
    "\n",
    "    # Extract class indices and corresponding counts\n",
    "    classes = list(counting_dict.keys())\n",
    "    counts = [counting_dict[k] for k in classes]\n",
    "\n",
    "    total = sum(counts)\n",
    "    percentages = [count / total * 100 for count in counts]\n",
    "\n",
    "    # Plotting training set histogram\n",
    "    plt.figure(figsize=(8, 4))\n",
    "    bars = plt.bar(classes, counts)\n",
    "    plt.xlabel('Class')\n",
    "    plt.ylabel('Count')\n",
    "    plt.title(f'{header} Set Class Distribution')\n",
    "    plt.xticks(classes)\n",
    "    plt.tight_layout()\n",
    "\n",
    "    # Add percentage labels on top of bars\n",
    "    for bar, percent in zip(bars, percentages):\n",
    "        height = bar.get_height()\n",
    "        plt.text(bar.get_x() + bar.get_width() / 2, height , f'{percent:.1f}%',\n",
    "                 ha='center', va='bottom', fontsize=10)\n",
    "\n",
    "    plt.tight_layout()\n",
    "    plt.show()\n",
    "\n",
    "plot_categories_histograms(train_dataset, 'Training Set Categories')\n",
    "plot_categories_histograms(validation_dataset, 'Validation Set Categories')\n",
    "plot_categories_histograms(test_dataset, 'Test Set Categories')"
   ],
   "outputs": [
    {
     "data": {
      "text/plain": [
       "<Figure size 800x400 with 1 Axes>"
      ],
      "image/png": "[encoded data removed]"
     },
     "metadata": {},
     "output_type": "display_data"
    },
    {
     "data": {
      "text/plain": [
       "<Figure size 800x400 with 1 Axes>"
      ],
      "image/png": "[encoded data removed]"
     },
     "metadata": {},
     "output_type": "display_data"
    },
    {
     "data": {
      "text/plain": [
       "<Figure size 800x400 with 1 Axes>"
      ],
      "image/png": "[encoded data removed]"
     },
     "metadata": {},
     "output_type": "display_data"
    }
   ],
   "execution_count": 7
  },
  {
   "cell_type": "markdown",
   "metadata": {
    "id": "cycq1A3GOGMm"
   },
   "source": [
    "###  1.2. Define CNN in PyTorch Lightning"
   ]
  },
  {
   "cell_type": "markdown",
   "metadata": {
    "id": "LLEAg2zTDCP1"
   },
   "source": [
    "a."
   ]
  },
  {
   "cell_type": "code",
   "metadata": {
    "id": "n4JO7FXcOFmk",
    "ExecuteTime": {
     "end_time": "2025-05-13T15:57:04.575493Z",
     "start_time": "2025-05-13T15:57:04.564343Z"
    }
   },
   "source": [
    "import torchmetrics\n",
    "import matplotlib.pyplot as plt, seaborn as sns, pandas as pd\n",
    "from pytorch_lightning.loggers import WandbLogger\n",
    "from pytorch_lightning.callbacks import ModelCheckpoint\n",
    "\n",
    "class SimpleCNN(pl.LightningModule):\n",
    "    def __init__(self, lr=0.001):\n",
    "        super().__init__()\n",
    "        self.save_hyperparameters()\n",
    "        self.lr = lr\n",
    "        self.loss = nn.CrossEntropyLoss()\n",
    "\n",
    "        self.train_acc = torchmetrics.Accuracy(task=\"multiclass\",\n",
    "                                               num_classes=10)\n",
    "        self.val_acc   = torchmetrics.Accuracy(task=\"multiclass\",\n",
    "                                               num_classes=10)\n",
    "        self.test_acc  = torchmetrics.Accuracy(task=\"multiclass\",\n",
    "                                               num_classes=10)\n",
    "\n",
    "        self.test_f1  = torchmetrics.F1Score(\n",
    "            task='multiclass', num_classes=10,average=None)\n",
    "\n",
    "        self.test_cm  = torchmetrics.ConfusionMatrix(\n",
    "            task='multiclass', num_classes=10)\n",
    "\n",
    "        def conv_bn_relu(c_in, c_out):\n",
    "            return nn.Sequential(\n",
    "                nn.Conv2d(c_in, c_out, 3, padding=1, bias=False),\n",
    "                nn.BatchNorm2d(c_out),\n",
    "                nn.ReLU(inplace=True)\n",
    "            )\n",
    "\n",
    "        # 3×32×32 → 256×8×8\n",
    "        self.features = nn.Sequential(\n",
    "            conv_bn_relu(3,   64),\n",
    "            conv_bn_relu(64,  64),\n",
    "            nn.MaxPool2d(2),          # 64×16×16\n",
    "\n",
    "            conv_bn_relu(64, 128),\n",
    "            conv_bn_relu(128,128),\n",
    "            nn.MaxPool2d(2),          # 128×8×8\n",
    "\n",
    "            conv_bn_relu(128,256),\n",
    "            conv_bn_relu(256,256)\n",
    "        )\n",
    "\n",
    "        self.gap     = nn.AdaptiveAvgPool2d(1)      # 256×1×1\n",
    "        self.dropout = nn.Dropout(0.3)\n",
    "        self.fc      = nn.Linear(256, 10)\n",
    "\n",
    "    def forward(self, x):\n",
    "        x = self.features(x)\n",
    "        x = self.gap(x).flatten(1)   # B×256\n",
    "        x = self.dropout(x)\n",
    "        return self.fc(x)\n",
    "\n",
    "    def training_step(self, batch, batch_idx):\n",
    "        loss, preds, y = self.common_step(batch, batch_idx)\n",
    "        self.train_acc.update(preds,y)\n",
    "        self.log(\"train_acc\",self.train_acc,\n",
    "                 on_step=False,on_epoch=True,prog_bar=True)\n",
    "        self.log('train loss', loss, prog_bar=True)\n",
    "        return loss\n",
    "\n",
    "    def validation_step(self, batch, batch_idx):\n",
    "        loss, preds, y = self.common_step(batch, batch_idx)\n",
    "        self.val_acc.update(preds,y)\n",
    "        self.log(\"val_acc\",self.val_acc,\n",
    "                 on_step=False,on_epoch=True,prog_bar=True)\n",
    "        self.log('validation loss', loss, prog_bar=True)\n",
    "        return loss\n",
    "\n",
    "\n",
    "    def test_step(self, batch, batch_idx):\n",
    "        loss, preds, y = self.common_step(batch, batch_idx)\n",
    "        self.test_acc.update(preds,y)\n",
    "        self.test_f1.update(preds, y)\n",
    "        self.test_cm.update(preds, y)\n",
    "        self.log(\"test_acc\",self.test_acc,\n",
    "                 on_step=False,on_epoch=True,prog_bar=True)\n",
    "        self.log('test loss', loss, prog_bar=True)\n",
    "        return loss\n",
    "\n",
    "    def common_step(self, batch, batch_idx):\n",
    "        x,y = batch\n",
    "        scores = self.forward(x)\n",
    "        loss = self.loss(scores, y)\n",
    "        return loss, scores, y\n",
    "\n",
    "    def predict_step(self,batch,batch_idx):\n",
    "        x,y = batch\n",
    "        scores = self.forward(x)\n",
    "        preds = torch.argmax(scores, dim=1)\n",
    "        return preds\n",
    "\n",
    "    def on_test_epoch_end(self):\n",
    "        def plot_f1_scores(f1):\n",
    "            f1 = f1.detach().cpu().numpy()\n",
    "            class_names = [str(i) for i in range(10)]\n",
    "            fig, ax = plt.subplots(figsize=(8, 5))\n",
    "            bars = ax.bar(class_names, f1, alpha=0.7, edgecolor='black')\n",
    "\n",
    "            ax.set_xlabel(\"Class\")\n",
    "            ax.set_ylabel(\"F1 score\")\n",
    "            ax.set_title(f\"Per class F1 (macro ≈ {f1.mean():.4f})\")\n",
    "            ax.set_ylim(0, 1.1)\n",
    "            ax.grid(axis='y', linestyle='--', alpha=0.5)\n",
    "\n",
    "            for bar, score in zip(bars, f1):\n",
    "                ax.text(bar.get_x() + bar.get_width() / 2,\n",
    "                        score + 0.02,\n",
    "                        f\"{score:.2f}\",\n",
    "                        ha='center', va='bottom', fontsize=10, fontweight='bold')\n",
    "\n",
    "            fig.tight_layout()\n",
    "            return fig\n",
    "\n",
    "        def plot_conf_matrix(conf_mat):\n",
    "            conf_mat = conf_mat.detach().cpu().numpy()\n",
    "            row_sums = conf_mat.sum(axis=1, keepdims=True)\n",
    "            conf_norm = np.divide(conf_mat, row_sums)\n",
    "            n_classes = conf_norm.shape[0]\n",
    "            class_names = [str(i) for i in range(n_classes)]\n",
    "            df = pd.DataFrame(conf_norm, index=class_names, columns=class_names)\n",
    "\n",
    "            fig, ax = plt.subplots(figsize=(8, 6))\n",
    "            sns.heatmap(\n",
    "                df,\n",
    "                annot=True,\n",
    "                fmt=\".2f\",\n",
    "                cmap=\"Blues\",\n",
    "                vmin=0, vmax=1,\n",
    "                cbar=True,\n",
    "                ax=ax\n",
    "            )\n",
    "            ax.set_xlabel(\"Predicted label\")\n",
    "            ax.set_ylabel(\"True label\")\n",
    "            ax.set_title(\"Confusion matrix (row normalised)\")\n",
    "            fig.tight_layout()\n",
    "\n",
    "            return fig\n",
    "\n",
    "        f1_per_class =  self.test_f1.compute()\n",
    "        fig1 = plot_f1_scores(f1_per_class)\n",
    "        conf_mat = self.test_cm.compute()\n",
    "        fig2 = plot_conf_matrix(conf_mat)\n",
    "\n",
    "\n",
    "        self.logger.log_image(\"f1_scores\",[fig1])\n",
    "        self.logger.log_image(\"confusion_matrix\",[fig2])\n",
    "\n",
    "        self.test_f1.reset()\n",
    "        self.test_cm.reset()\n",
    "\n",
    "    def configure_optimizers(self):\n",
    "        return torch.optim.Adam(self.parameters(), lr=self.lr)"
   ],
   "outputs": [],
   "execution_count": 8
  },
  {
   "metadata": {
    "ExecuteTime": {
     "end_time": "2025-05-13T15:57:10.975052Z",
     "start_time": "2025-05-13T15:57:10.970533Z"
    }
   },
   "cell_type": "code",
   "source": [
    "from pytorch_lightning.callbacks import EarlyStopping\n",
    "\n",
    "BATCH_SIZE = 256\n",
    "train_loader = DataLoader(dataset=train_dataset, batch_size=BATCH_SIZE, shuffle=True)\n",
    "validation_loader = DataLoader(dataset=validation_dataset, batch_size=BATCH_SIZE, shuffle=False)\n",
    "test_loader = DataLoader(dataset=test_dataset, batch_size=BATCH_SIZE, shuffle=False)\n"
   ],
   "outputs": [],
   "execution_count": 9
  },
  {
   "cell_type": "markdown",
   "metadata": {
    "id": "hdomBb5LOmHq"
   },
   "source": [
    "b. Your model should achieve an accuracy of at least 0.80 on the training set, and at least 0.70 on both the validation and test sets."
   ]
  },
  {
   "metadata": {
    "ExecuteTime": {
     "end_time": "2025-05-13T16:03:39.752509Z",
     "start_time": "2025-05-13T16:03:39.705415Z"
    }
   },
   "cell_type": "code",
   "source": [
    "# 🪄 Init wandb logger\n",
    "wandb_logger = WandbLogger(project=\"CNN-CIFAR10\", log_model=True)\n",
    "\n",
    "# ⚡ Instantiate model and trainer\n",
    "model = SimpleCNN()\n",
    "\n",
    "# Define the checkpoint callback\n",
    "early_stop = EarlyStopping(monitor=\"validation loss\",mode=\"min\", patience=10, verbose=True)\n",
    "checkpoint_callback = ModelCheckpoint(save_top_k=1, monitor=\"validation loss\", mode=\"min\",verbose=True)\n",
    "\n",
    "trainer = pl.Trainer(accelerator=\"gpu\",devices=[0],min_epochs=5,max_epochs=30,callbacks=[early_stop,checkpoint_callback],logger=wandb_logger)"
   ],
   "outputs": [
    {
     "name": "stderr",
     "output_type": "stream",
     "text": [
      "GPU available: True (cuda), used: True\n",
      "TPU available: False, using: 0 TPU cores\n",
      "HPU available: False, using: 0 HPUs\n"
     ]
    }
   ],
   "execution_count": 26
  },
  {
   "metadata": {
    "id": "fn0QyuIhOl3D",
    "ExecuteTime": {
     "end_time": "2025-05-13T15:03:05.071776Z",
     "start_time": "2025-05-13T14:57:49.825977Z"
    }
   },
   "cell_type": "code",
   "outputs": [
    {
     "name": "stderr",
     "output_type": "stream",
     "text": [
      "GPU available: True (cuda), used: True\n",
      "TPU available: False, using: 0 TPU cores\n",
      "HPU available: False, using: 0 HPUs\n",
      "You are using a CUDA device ('NVIDIA GeForce RTX 4060 Laptop GPU') that has Tensor Cores. To properly utilize them, you should set `torch.set_float32_matmul_precision('medium' | 'high')` which will trade-off precision for performance. For more details, read https://pytorch.org/docs/stable/generated/torch.set_float32_matmul_precision.html#torch.set_float32_matmul_precision\n",
      "wandb: W&B API key is configured. Use `wandb login --relogin` to force relogin\n"
     ]
    },
    {
     "data": {
      "text/plain": [
       "<IPython.core.display.HTML object>"
      ],
      "text/html": [
       "creating run (0.7s)"
      ]
     },
     "metadata": {},
     "output_type": "display_data"
    },
    {
     "data": {
      "text/plain": [
       "<IPython.core.display.HTML object>"
      ],
      "text/html": [
       "Tracking run with wandb version 0.19.11"
      ]
     },
     "metadata": {},
     "output_type": "display_data"
    },
    {
     "data": {
      "text/plain": [
       "<IPython.core.display.HTML object>"
      ],
      "text/html": [
       "Run data is saved locally in <code>.\\wandb\\run-20250513_175757-0m211ex0</code>"
      ]
     },
     "metadata": {},
     "output_type": "display_data"
    },
    {
     "data": {
      "text/plain": [
       "<IPython.core.display.HTML object>"
      ],
      "text/html": [
       "Syncing run <strong><a href='https://wandb.ai/ndvamr-ben-gurion-university-of-the-negev/CNN-CIFAR10/runs/0m211ex0' target=\"_blank\">smooth-elevator-25</a></strong> to <a href='https://wandb.ai/ndvamr-ben-gurion-university-of-the-negev/CNN-CIFAR10' target=\"_blank\">Weights & Biases</a> (<a href='https://wandb.me/developer-guide' target=\"_blank\">docs</a>)<br>"
      ]
     },
     "metadata": {},
     "output_type": "display_data"
    },
    {
     "data": {
      "text/plain": [
       "<IPython.core.display.HTML object>"
      ],
      "text/html": [
       " View project at <a href='https://wandb.ai/ndvamr-ben-gurion-university-of-the-negev/CNN-CIFAR10' target=\"_blank\">https://wandb.ai/ndvamr-ben-gurion-university-of-the-negev/CNN-CIFAR10</a>"
      ]
     },
     "metadata": {},
     "output_type": "display_data"
    },
    {
     "data": {
      "text/plain": [
       "<IPython.core.display.HTML object>"
      ],
      "text/html": [
       " View run at <a href='https://wandb.ai/ndvamr-ben-gurion-university-of-the-negev/CNN-CIFAR10/runs/0m211ex0' target=\"_blank\">https://wandb.ai/ndvamr-ben-gurion-university-of-the-negev/CNN-CIFAR10/runs/0m211ex0</a>"
      ]
     },
     "metadata": {},
     "output_type": "display_data"
    },
    {
     "name": "stderr",
     "output_type": "stream",
     "text": [
      "LOCAL_RANK: 0 - CUDA_VISIBLE_DEVICES: [0]\n",
      "\n",
      "  | Name      | Type                      | Params | Mode \n",
      "----------------------------------------------------------------\n",
      "0 | loss      | CrossEntropyLoss          | 0      | train\n",
      "1 | train_acc | MulticlassAccuracy        | 0      | train\n",
      "2 | val_acc   | MulticlassAccuracy        | 0      | train\n",
      "3 | test_acc  | MulticlassAccuracy        | 0      | train\n",
      "4 | test_f1   | MulticlassF1Score         | 0      | train\n",
      "5 | test_cm   | MulticlassConfusionMatrix | 0      | train\n",
      "6 | features  | Sequential                | 1.1 M  | train\n",
      "7 | gap       | AdaptiveAvgPool2d         | 0      | train\n",
      "8 | dropout   | Dropout                   | 0      | train\n",
      "9 | fc        | Linear                    | 2.6 K  | train\n",
      "----------------------------------------------------------------\n",
      "1.1 M     Trainable params\n",
      "0         Non-trainable params\n",
      "1.1 M     Total params\n",
      "4.595     Total estimated model params size (MB)\n",
      "36        Modules in train mode\n",
      "0         Modules in eval mode\n"
     ]
    },
    {
     "data": {
      "text/plain": [
       "Sanity Checking: |          | 0/? [00:00<?, ?it/s]"
      ],
      "application/vnd.jupyter.widget-view+json": {
       "version_major": 2,
       "version_minor": 0,
       "model_id": "fd387aeee94d4e3c831ed3067f5fd3e9"
      }
     },
     "metadata": {},
     "output_type": "display_data"
    },
    {
     "name": "stderr",
     "output_type": "stream",
     "text": [
      "C:\\Users\\ndvam\\anaconda3\\Lib\\site-packages\\pytorch_lightning\\trainer\\connectors\\data_connector.py:425: The 'val_dataloader' does not have many workers which may be a bottleneck. Consider increasing the value of the `num_workers` argument` to `num_workers=15` in the `DataLoader` to improve performance.\n",
      "C:\\Users\\ndvam\\anaconda3\\Lib\\site-packages\\pytorch_lightning\\trainer\\connectors\\data_connector.py:425: The 'train_dataloader' does not have many workers which may be a bottleneck. Consider increasing the value of the `num_workers` argument` to `num_workers=15` in the `DataLoader` to improve performance.\n"
     ]
    },
    {
     "data": {
      "text/plain": [
       "Training: |          | 0/? [00:00<?, ?it/s]"
      ],
      "application/vnd.jupyter.widget-view+json": {
       "version_major": 2,
       "version_minor": 0,
       "model_id": "bfa0167a0dcf48289bb7222913acb29c"
      }
     },
     "metadata": {},
     "output_type": "display_data"
    },
    {
     "data": {
      "text/plain": [
       "Validation: |          | 0/? [00:00<?, ?it/s]"
      ],
      "application/vnd.jupyter.widget-view+json": {
       "version_major": 2,
       "version_minor": 0,
       "model_id": "4c1f2737e6d14cf08df9a8bd5b274476"
      }
     },
     "metadata": {},
     "output_type": "display_data"
    },
    {
     "name": "stderr",
     "output_type": "stream",
     "text": [
      "Metric validation loss improved. New best score: 1.295\n",
      "Epoch 0, global step 118: 'validation loss' reached 1.29475 (best 1.29475), saving model to '.\\\\CNN-CIFAR10\\\\0m211ex0\\\\checkpoints\\\\epoch=0-step=118.ckpt' as top 1\n"
     ]
    },
    {
     "data": {
      "text/plain": [
       "Validation: |          | 0/? [00:00<?, ?it/s]"
      ],
      "application/vnd.jupyter.widget-view+json": {
       "version_major": 2,
       "version_minor": 0,
       "model_id": "f58bbab260794ccd940d69aa476a817c"
      }
     },
     "metadata": {},
     "output_type": "display_data"
    },
    {
     "name": "stderr",
     "output_type": "stream",
     "text": [
      "Metric validation loss improved by 0.143 >= min_delta = 0.0. New best score: 1.152\n",
      "Epoch 1, global step 236: 'validation loss' reached 1.15153 (best 1.15153), saving model to '.\\\\CNN-CIFAR10\\\\0m211ex0\\\\checkpoints\\\\epoch=1-step=236.ckpt' as top 1\n"
     ]
    },
    {
     "data": {
      "text/plain": [
       "Validation: |          | 0/? [00:00<?, ?it/s]"
      ],
      "application/vnd.jupyter.widget-view+json": {
       "version_major": 2,
       "version_minor": 0,
       "model_id": "61d52b2f0f8148e4995f230173774eb2"
      }
     },
     "metadata": {},
     "output_type": "display_data"
    },
    {
     "name": "stderr",
     "output_type": "stream",
     "text": [
      "Epoch 2, global step 354: 'validation loss' was not in top 1\n"
     ]
    },
    {
     "data": {
      "text/plain": [
       "Validation: |          | 0/? [00:00<?, ?it/s]"
      ],
      "application/vnd.jupyter.widget-view+json": {
       "version_major": 2,
       "version_minor": 0,
       "model_id": "b3afe6c2770441afaa9165f634da08a0"
      }
     },
     "metadata": {},
     "output_type": "display_data"
    },
    {
     "name": "stderr",
     "output_type": "stream",
     "text": [
      "Metric validation loss improved by 0.278 >= min_delta = 0.0. New best score: 0.874\n",
      "Epoch 3, global step 472: 'validation loss' reached 0.87373 (best 0.87373), saving model to '.\\\\CNN-CIFAR10\\\\0m211ex0\\\\checkpoints\\\\epoch=3-step=472.ckpt' as top 1\n"
     ]
    },
    {
     "data": {
      "text/plain": [
       "Validation: |          | 0/? [00:00<?, ?it/s]"
      ],
      "application/vnd.jupyter.widget-view+json": {
       "version_major": 2,
       "version_minor": 0,
       "model_id": "d015ce51377b4b4e82291e1af1a586f1"
      }
     },
     "metadata": {},
     "output_type": "display_data"
    },
    {
     "name": "stderr",
     "output_type": "stream",
     "text": [
      "Metric validation loss improved by 0.173 >= min_delta = 0.0. New best score: 0.700\n",
      "Epoch 4, global step 590: 'validation loss' reached 0.70047 (best 0.70047), saving model to '.\\\\CNN-CIFAR10\\\\0m211ex0\\\\checkpoints\\\\epoch=4-step=590.ckpt' as top 1\n"
     ]
    },
    {
     "data": {
      "text/plain": [
       "Validation: |          | 0/? [00:00<?, ?it/s]"
      ],
      "application/vnd.jupyter.widget-view+json": {
       "version_major": 2,
       "version_minor": 0,
       "model_id": "276d4407580947a78eae52efec714937"
      }
     },
     "metadata": {},
     "output_type": "display_data"
    },
    {
     "name": "stderr",
     "output_type": "stream",
     "text": [
      "Epoch 5, global step 708: 'validation loss' was not in top 1\n"
     ]
    },
    {
     "data": {
      "text/plain": [
       "Validation: |          | 0/? [00:00<?, ?it/s]"
      ],
      "application/vnd.jupyter.widget-view+json": {
       "version_major": 2,
       "version_minor": 0,
       "model_id": "885f65f287fc4c05a51d56e30dd53a24"
      }
     },
     "metadata": {},
     "output_type": "display_data"
    },
    {
     "name": "stderr",
     "output_type": "stream",
     "text": [
      "Epoch 6, global step 826: 'validation loss' was not in top 1\n"
     ]
    },
    {
     "data": {
      "text/plain": [
       "Validation: |          | 0/? [00:00<?, ?it/s]"
      ],
      "application/vnd.jupyter.widget-view+json": {
       "version_major": 2,
       "version_minor": 0,
       "model_id": "e89f5c3790114a3cb34a26506eab9c4c"
      }
     },
     "metadata": {},
     "output_type": "display_data"
    },
    {
     "name": "stderr",
     "output_type": "stream",
     "text": [
      "Epoch 7, global step 944: 'validation loss' was not in top 1\n"
     ]
    },
    {
     "data": {
      "text/plain": [
       "Validation: |          | 0/? [00:00<?, ?it/s]"
      ],
      "application/vnd.jupyter.widget-view+json": {
       "version_major": 2,
       "version_minor": 0,
       "model_id": "0d78932e147d4297a6db15403f86a613"
      }
     },
     "metadata": {},
     "output_type": "display_data"
    },
    {
     "name": "stderr",
     "output_type": "stream",
     "text": [
      "Epoch 8, global step 1062: 'validation loss' was not in top 1\n"
     ]
    },
    {
     "data": {
      "text/plain": [
       "Validation: |          | 0/? [00:00<?, ?it/s]"
      ],
      "application/vnd.jupyter.widget-view+json": {
       "version_major": 2,
       "version_minor": 0,
       "model_id": "c85a73397cbd4b518093d3fb3a172f47"
      }
     },
     "metadata": {},
     "output_type": "display_data"
    },
    {
     "name": "stderr",
     "output_type": "stream",
     "text": [
      "Metric validation loss improved by 0.011 >= min_delta = 0.0. New best score: 0.690\n",
      "Epoch 9, global step 1180: 'validation loss' reached 0.68957 (best 0.68957), saving model to '.\\\\CNN-CIFAR10\\\\0m211ex0\\\\checkpoints\\\\epoch=9-step=1180.ckpt' as top 1\n"
     ]
    },
    {
     "data": {
      "text/plain": [
       "Validation: |          | 0/? [00:00<?, ?it/s]"
      ],
      "application/vnd.jupyter.widget-view+json": {
       "version_major": 2,
       "version_minor": 0,
       "model_id": "30c8e2f2f7e2420aa2d5dd1f85854c0e"
      }
     },
     "metadata": {},
     "output_type": "display_data"
    },
    {
     "name": "stderr",
     "output_type": "stream",
     "text": [
      "Epoch 10, global step 1298: 'validation loss' was not in top 1\n"
     ]
    },
    {
     "data": {
      "text/plain": [
       "Validation: |          | 0/? [00:00<?, ?it/s]"
      ],
      "application/vnd.jupyter.widget-view+json": {
       "version_major": 2,
       "version_minor": 0,
       "model_id": "afaf4be72d6e4c7fa18bf3676267cd0e"
      }
     },
     "metadata": {},
     "output_type": "display_data"
    },
    {
     "name": "stderr",
     "output_type": "stream",
     "text": [
      "Epoch 11, global step 1416: 'validation loss' was not in top 1\n"
     ]
    },
    {
     "data": {
      "text/plain": [
       "Validation: |          | 0/? [00:00<?, ?it/s]"
      ],
      "application/vnd.jupyter.widget-view+json": {
       "version_major": 2,
       "version_minor": 0,
       "model_id": "2f0649f4958748a7beaa5a45374d14c2"
      }
     },
     "metadata": {},
     "output_type": "display_data"
    },
    {
     "name": "stderr",
     "output_type": "stream",
     "text": [
      "Epoch 12, global step 1534: 'validation loss' was not in top 1\n"
     ]
    },
    {
     "data": {
      "text/plain": [
       "Validation: |          | 0/? [00:00<?, ?it/s]"
      ],
      "application/vnd.jupyter.widget-view+json": {
       "version_major": 2,
       "version_minor": 0,
       "model_id": "588ae432f6bc4ec887997c759f4db631"
      }
     },
     "metadata": {},
     "output_type": "display_data"
    },
    {
     "name": "stderr",
     "output_type": "stream",
     "text": [
      "Epoch 13, global step 1652: 'validation loss' was not in top 1\n"
     ]
    },
    {
     "data": {
      "text/plain": [
       "Validation: |          | 0/? [00:00<?, ?it/s]"
      ],
      "application/vnd.jupyter.widget-view+json": {
       "version_major": 2,
       "version_minor": 0,
       "model_id": "ef9527d7c64f4823a320b4cd96868ca0"
      }
     },
     "metadata": {},
     "output_type": "display_data"
    },
    {
     "name": "stderr",
     "output_type": "stream",
     "text": [
      "Epoch 14, global step 1770: 'validation loss' was not in top 1\n"
     ]
    },
    {
     "data": {
      "text/plain": [
       "Validation: |          | 0/? [00:00<?, ?it/s]"
      ],
      "application/vnd.jupyter.widget-view+json": {
       "version_major": 2,
       "version_minor": 0,
       "model_id": "bd794b60cc824a0b8f88f3cc8c35c5a5"
      }
     },
     "metadata": {},
     "output_type": "display_data"
    },
    {
     "name": "stderr",
     "output_type": "stream",
     "text": [
      "Epoch 15, global step 1888: 'validation loss' was not in top 1\n"
     ]
    },
    {
     "data": {
      "text/plain": [
       "Validation: |          | 0/? [00:00<?, ?it/s]"
      ],
      "application/vnd.jupyter.widget-view+json": {
       "version_major": 2,
       "version_minor": 0,
       "model_id": "9ab9346c735841989594d94e4475a254"
      }
     },
     "metadata": {},
     "output_type": "display_data"
    },
    {
     "name": "stderr",
     "output_type": "stream",
     "text": [
      "Epoch 16, global step 2006: 'validation loss' was not in top 1\n"
     ]
    },
    {
     "data": {
      "text/plain": [
       "Validation: |          | 0/? [00:00<?, ?it/s]"
      ],
      "application/vnd.jupyter.widget-view+json": {
       "version_major": 2,
       "version_minor": 0,
       "model_id": "ffa6c02bc185432e990db6ea92f0daa9"
      }
     },
     "metadata": {},
     "output_type": "display_data"
    },
    {
     "name": "stderr",
     "output_type": "stream",
     "text": [
      "Epoch 17, global step 2124: 'validation loss' was not in top 1\n"
     ]
    },
    {
     "data": {
      "text/plain": [
       "Validation: |          | 0/? [00:00<?, ?it/s]"
      ],
      "application/vnd.jupyter.widget-view+json": {
       "version_major": 2,
       "version_minor": 0,
       "model_id": "30381b71a52f45399993c0ee48d95089"
      }
     },
     "metadata": {},
     "output_type": "display_data"
    },
    {
     "name": "stderr",
     "output_type": "stream",
     "text": [
      "Epoch 18, global step 2242: 'validation loss' was not in top 1\n"
     ]
    },
    {
     "data": {
      "text/plain": [
       "Validation: |          | 0/? [00:00<?, ?it/s]"
      ],
      "application/vnd.jupyter.widget-view+json": {
       "version_major": 2,
       "version_minor": 0,
       "model_id": "09c2e4672f1f4bf69ecedde328717a6d"
      }
     },
     "metadata": {},
     "output_type": "display_data"
    },
    {
     "name": "stderr",
     "output_type": "stream",
     "text": [
      "Monitored metric validation loss did not improve in the last 10 records. Best score: 0.690. Signaling Trainer to stop.\n",
      "Epoch 19, global step 2360: 'validation loss' was not in top 1\n"
     ]
    }
   ],
   "execution_count": 10,
   "source": "trainer.fit(model,train_loader,validation_loader)"
  },
  {
   "cell_type": "markdown",
   "metadata": {
    "id": "yJR95o9wOusC"
   },
   "source": [
    "c."
   ]
  },
  {
   "cell_type": "code",
   "metadata": {
    "id": "yquHXLVuPCCm",
    "ExecuteTime": {
     "end_time": "2025-05-13T16:04:09.496424Z",
     "start_time": "2025-05-13T16:03:52.658918Z"
    }
   },
   "source": [
    "# 🔍 Evaluate\n",
    "print(checkpoint_callback.best_model_path)\n",
    "\n",
    "try:\n",
    "    best_model = SimpleCNN.load_from_checkpoint(checkpoint_callback.best_model_path)\n",
    "except:\n",
    "    checkpoint_path = \"C:/Users/ndvam/PycharmProjects/deeplearning_hw3/cnn_cifar10_best.ckpt\"\n",
    "    best_model = SimpleCNN.load_from_checkpoint(checkpoint_path)\n",
    "\n",
    "\n",
    "trainer.validate(model=best_model,dataloaders=validation_loader)\n",
    "\n",
    "trainer.test(model, dataloaders=test_loader)\n",
    "\n",
    "#Show F1 score and confusion matrix you can do it in def on_test_epoch_end(self): and log it to wandb\n",
    "\n",
    "# 💾 Save the model in thr last epoch if saved by metric\n",
    "trainer.save_checkpoint(\"cnn_cifar10_best.ckpt\")"
   ],
   "outputs": [
    {
     "name": "stderr",
     "output_type": "stream",
     "text": [
      "You are using a CUDA device ('NVIDIA GeForce RTX 4060 Laptop GPU') that has Tensor Cores. To properly utilize them, you should set `torch.set_float32_matmul_precision('medium' | 'high')` which will trade-off precision for performance. For more details, read https://pytorch.org/docs/stable/generated/torch.set_float32_matmul_precision.html#torch.set_float32_matmul_precision\n"
     ]
    },
    {
     "name": "stdout",
     "output_type": "stream",
     "text": [
      "\n"
     ]
    },
    {
     "name": "stderr",
     "output_type": "stream",
     "text": [
      "wandb: ERROR Failed to detect the name of this notebook. You can set it manually with the WANDB_NOTEBOOK_NAME environment variable to enable code saving.\n",
      "wandb: Currently logged in as: ndvamr (ndvamr-ben-gurion-university-of-the-negev) to https://api.wandb.ai. Use `wandb login --relogin` to force relogin\n"
     ]
    },
    {
     "data": {
      "text/plain": [
       "<IPython.core.display.HTML object>"
      ],
      "text/html": [
       "creating run (0.6s)"
      ]
     },
     "metadata": {},
     "output_type": "display_data"
    },
    {
     "data": {
      "text/plain": [
       "<IPython.core.display.HTML object>"
      ],
      "text/html": [
       "Tracking run with wandb version 0.19.11"
      ]
     },
     "metadata": {},
     "output_type": "display_data"
    },
    {
     "data": {
      "text/plain": [
       "<IPython.core.display.HTML object>"
      ],
      "text/html": [
       "Run data is saved locally in <code>.\\wandb\\run-20250513_190358-hn22u7bm</code>"
      ]
     },
     "metadata": {},
     "output_type": "display_data"
    },
    {
     "data": {
      "text/plain": [
       "<IPython.core.display.HTML object>"
      ],
      "text/html": [
       "Syncing run <strong><a href='https://wandb.ai/ndvamr-ben-gurion-university-of-the-negev/CNN-CIFAR10/runs/hn22u7bm' target=\"_blank\">charmed-glade-26</a></strong> to <a href='https://wandb.ai/ndvamr-ben-gurion-university-of-the-negev/CNN-CIFAR10' target=\"_blank\">Weights & Biases</a> (<a href='https://wandb.me/developer-guide' target=\"_blank\">docs</a>)<br>"
      ]
     },
     "metadata": {},
     "output_type": "display_data"
    },
    {
     "data": {
      "text/plain": [
       "<IPython.core.display.HTML object>"
      ],
      "text/html": [
       " View project at <a href='https://wandb.ai/ndvamr-ben-gurion-university-of-the-negev/CNN-CIFAR10' target=\"_blank\">https://wandb.ai/ndvamr-ben-gurion-university-of-the-negev/CNN-CIFAR10</a>"
      ]
     },
     "metadata": {},
     "output_type": "display_data"
    },
    {
     "data": {
      "text/plain": [
       "<IPython.core.display.HTML object>"
      ],
      "text/html": [
       " View run at <a href='https://wandb.ai/ndvamr-ben-gurion-university-of-the-negev/CNN-CIFAR10/runs/hn22u7bm' target=\"_blank\">https://wandb.ai/ndvamr-ben-gurion-university-of-the-negev/CNN-CIFAR10/runs/hn22u7bm</a>"
      ]
     },
     "metadata": {},
     "output_type": "display_data"
    },
    {
     "name": "stderr",
     "output_type": "stream",
     "text": [
      "LOCAL_RANK: 0 - CUDA_VISIBLE_DEVICES: [0]\n",
      "C:\\Users\\ndvam\\anaconda3\\Lib\\site-packages\\pytorch_lightning\\trainer\\connectors\\data_connector.py:425: The 'val_dataloader' does not have many workers which may be a bottleneck. Consider increasing the value of the `num_workers` argument` to `num_workers=15` in the `DataLoader` to improve performance.\n"
     ]
    },
    {
     "data": {
      "text/plain": [
       "Validation: |          | 0/? [00:00<?, ?it/s]"
      ],
      "application/vnd.jupyter.widget-view+json": {
       "version_major": 2,
       "version_minor": 0,
       "model_id": "db863177db3440f69278108a5a1c19db"
      }
     },
     "metadata": {},
     "output_type": "display_data"
    },
    {
     "data": {
      "text/plain": [
       "┏━━━━━━━━━━━━━━━━━━━━━━━━━━━┳━━━━━━━━━━━━━━━━━━━━━━━━━━━┓\n",
       "┃\u001B[1m \u001B[0m\u001B[1m     Validate metric     \u001B[0m\u001B[1m \u001B[0m┃\u001B[1m \u001B[0m\u001B[1m      DataLoader 0       \u001B[0m\u001B[1m \u001B[0m┃\n",
       "┡━━━━━━━━━━━━━━━━━━━━━━━━━━━╇━━━━━━━━━━━━━━━━━━━━━━━━━━━┩\n",
       "│\u001B[36m \u001B[0m\u001B[36m         val_acc         \u001B[0m\u001B[36m \u001B[0m│\u001B[35m \u001B[0m\u001B[35m   0.7986000180244446    \u001B[0m\u001B[35m \u001B[0m│\n",
       "│\u001B[36m \u001B[0m\u001B[36m     validation loss     \u001B[0m\u001B[36m \u001B[0m│\u001B[35m \u001B[0m\u001B[35m    0.846594512462616    \u001B[0m\u001B[35m \u001B[0m│\n",
       "└───────────────────────────┴───────────────────────────┘\n"
      ],
      "text/html": [
       "<pre style=\"white-space:pre;overflow-x:auto;line-height:normal;font-family:Menlo,'DejaVu Sans Mono',consolas,'Courier New',monospace\">┏━━━━━━━━━━━━━━━━━━━━━━━━━━━┳━━━━━━━━━━━━━━━━━━━━━━━━━━━┓\n",
       "┃<span style=\"font-weight: bold\">      Validate metric      </span>┃<span style=\"font-weight: bold\">       DataLoader 0        </span>┃\n",
       "┡━━━━━━━━━━━━━━━━━━━━━━━━━━━╇━━━━━━━━━━━━━━━━━━━━━━━━━━━┩\n",
       "│<span style=\"color: #008080; text-decoration-color: #008080\">          val_acc          </span>│<span style=\"color: #800080; text-decoration-color: #800080\">    0.7986000180244446     </span>│\n",
       "│<span style=\"color: #008080; text-decoration-color: #008080\">      validation loss      </span>│<span style=\"color: #800080; text-decoration-color: #800080\">     0.846594512462616     </span>│\n",
       "└───────────────────────────┴───────────────────────────┘\n",
       "</pre>\n"
      ]
     },
     "metadata": {},
     "output_type": "display_data"
    },
    {
     "name": "stderr",
     "output_type": "stream",
     "text": [
      "LOCAL_RANK: 0 - CUDA_VISIBLE_DEVICES: [0]\n",
      "C:\\Users\\ndvam\\anaconda3\\Lib\\site-packages\\pytorch_lightning\\trainer\\connectors\\data_connector.py:425: The 'test_dataloader' does not have many workers which may be a bottleneck. Consider increasing the value of the `num_workers` argument` to `num_workers=15` in the `DataLoader` to improve performance.\n"
     ]
    },
    {
     "data": {
      "text/plain": [
       "Testing: |          | 0/? [00:00<?, ?it/s]"
      ],
      "application/vnd.jupyter.widget-view+json": {
       "version_major": 2,
       "version_minor": 0,
       "model_id": "c86be16440664d7e934d52dc6d192cbc"
      }
     },
     "metadata": {},
     "output_type": "display_data"
    },
    {
     "data": {
      "text/plain": [
       "┏━━━━━━━━━━━━━━━━━━━━━━━━━━━┳━━━━━━━━━━━━━━━━━━━━━━━━━━━┓\n",
       "┃\u001B[1m \u001B[0m\u001B[1m       Test metric       \u001B[0m\u001B[1m \u001B[0m┃\u001B[1m \u001B[0m\u001B[1m      DataLoader 0       \u001B[0m\u001B[1m \u001B[0m┃\n",
       "┡━━━━━━━━━━━━━━━━━━━━━━━━━━━╇━━━━━━━━━━━━━━━━━━━━━━━━━━━┩\n",
       "│\u001B[36m \u001B[0m\u001B[36m        test loss        \u001B[0m\u001B[36m \u001B[0m│\u001B[35m \u001B[0m\u001B[35m   0.8398962616920471    \u001B[0m\u001B[35m \u001B[0m│\n",
       "│\u001B[36m \u001B[0m\u001B[36m        test_acc         \u001B[0m\u001B[36m \u001B[0m│\u001B[35m \u001B[0m\u001B[35m    0.802299976348877    \u001B[0m\u001B[35m \u001B[0m│\n",
       "└───────────────────────────┴───────────────────────────┘\n"
      ],
      "text/html": [
       "<pre style=\"white-space:pre;overflow-x:auto;line-height:normal;font-family:Menlo,'DejaVu Sans Mono',consolas,'Courier New',monospace\">┏━━━━━━━━━━━━━━━━━━━━━━━━━━━┳━━━━━━━━━━━━━━━━━━━━━━━━━━━┓\n",
       "┃<span style=\"font-weight: bold\">        Test metric        </span>┃<span style=\"font-weight: bold\">       DataLoader 0        </span>┃\n",
       "┡━━━━━━━━━━━━━━━━━━━━━━━━━━━╇━━━━━━━━━━━━━━━━━━━━━━━━━━━┩\n",
       "│<span style=\"color: #008080; text-decoration-color: #008080\">         test loss         </span>│<span style=\"color: #800080; text-decoration-color: #800080\">    0.8398962616920471     </span>│\n",
       "│<span style=\"color: #008080; text-decoration-color: #008080\">         test_acc          </span>│<span style=\"color: #800080; text-decoration-color: #800080\">     0.802299976348877     </span>│\n",
       "└───────────────────────────┴───────────────────────────┘\n",
       "</pre>\n"
      ]
     },
     "metadata": {},
     "output_type": "display_data"
    },
    {
     "data": {
      "text/plain": [
       "<Figure size 800x500 with 1 Axes>"
      ],
      "image/png": "[encoded data removed]"
     },
     "metadata": {},
     "output_type": "display_data"
    },
    {
     "data": {
      "text/plain": [
       "<Figure size 800x600 with 2 Axes>"
      ],
      "image/png": "[encoded data removed]"
     },
     "metadata": {},
     "output_type": "display_data"
    }
   ],
   "execution_count": 28
  },
  {
   "cell_type": "markdown",
   "metadata": {
    "id": "qOVDHUoifGbs"
   },
   "source": [
    "## 1.3 Explainability with Grad-CAM"
   ]
  },
  {
   "cell_type": "markdown",
   "metadata": {
    "id": "_FG-qhsjfPzT"
   },
   "source": [
    "a."
   ]
  },
  {
   "cell_type": "code",
   "metadata": {
    "id": "IajQrqlhfGNs",
    "ExecuteTime": {
     "end_time": "2025-05-13T15:11:11.486878Z",
     "start_time": "2025-05-13T15:11:11.480008Z"
    }
   },
   "source": "# !pip install grad-cam --quiet",
   "outputs": [],
   "execution_count": 12
  },
  {
   "cell_type": "code",
   "metadata": {
    "id": "8srEIKxwfWPb",
    "ExecuteTime": {
     "end_time": "2025-05-13T16:04:28.403945Z",
     "start_time": "2025-05-13T16:04:28.276091Z"
    }
   },
   "source": [
    "from pytorch_grad_cam import GradCAM\n",
    "from pytorch_grad_cam.utils.image import show_cam_on_image, preprocess_image\n",
    "from pytorch_grad_cam.utils.model_targets import ClassifierOutputTarget\n",
    "\n",
    "# load the model again\n",
    "model = SimpleCNN.load_from_checkpoint(\"cnn_cifar10_best.ckpt\")\n",
    "model.eval()\n",
    "\n",
    "# Define the target layer for Grad-CAM (adjust if needed)\n",
    "target_layer = model.features[-1][0]\n",
    "\n",
    "cam = GradCAM(model=model, target_layers=[target_layer])\n"
   ],
   "outputs": [],
   "execution_count": 29
  },
  {
   "metadata": {},
   "cell_type": "markdown",
   "source": "First section of grad-cam - generate Grad-CAM heatmaps for several test images\n"
  },
  {
   "metadata": {
    "ExecuteTime": {
     "end_time": "2025-05-13T16:04:34.879912Z",
     "start_time": "2025-05-13T16:04:33.970765Z"
    }
   },
   "cell_type": "code",
   "source": [
    "from pytorch_grad_cam.utils.model_targets import ClassifierOutputTarget\n",
    "import random\n",
    "import numpy as np\n",
    "\n",
    "cifar10_mean = (0.4914, 0.4822, 0.4465)\n",
    "cifar10_std  = (0.2470, 0.2435, 0.2616)\n",
    "\n",
    "def get_class_name_from_idx(dictionary,idx):\n",
    "    for key, value in dictionary.items():\n",
    "        if value == idx:\n",
    "            return key\n",
    "def show_example_per_label(dataset):\n",
    "    sample_targets = []\n",
    "    sample_indices = []\n",
    "    random.seed(2228)\n",
    "    for k,target in enumerate(dataset.targets):\n",
    "        if random.random() < 0.05:\n",
    "            if not target in sample_targets:\n",
    "                sample_indices.append(k)\n",
    "                sample_targets.append(target)\n",
    "    sorted_indices_by_target = np.argsort(sample_targets)\n",
    "\n",
    "    fig, axs = plt.subplots(nrows=2, ncols=5, figsize=(20, 10))\n",
    "\n",
    "    index = 0\n",
    "    for k in sorted_indices_by_target[[1, 5, 0, 2, 3]]:\n",
    "\n",
    "        rgb_img = dataset.data[sample_indices[k]]/255.0\n",
    "        category = sample_targets[k]\n",
    "        axs[0,index]. grid(False)\n",
    "        axs[0,index].set_title(f\"Example of category - {get_class_name_from_idx(dataset.class_to_idx,sample_targets[k])}\")\n",
    "        axs[0,index].imshow(rgb_img)\n",
    "\n",
    "        input_tensor = preprocess_image(rgb_img,mean=cifar10_mean,std=cifar10_std).float()\n",
    "\n",
    "        # Show what model predicted\n",
    "        with torch.no_grad():\n",
    "            logits = model(input_tensor)\n",
    "            probs = logits.softmax(dim=1).squeeze(0)\n",
    "            pred_idx  = int(probs.argmax())\n",
    "\n",
    "        grayscale_cam = cam(input_tensor=input_tensor, targets=[ClassifierOutputTarget(category)])\n",
    "        grayscale_cam = grayscale_cam[0, :]\n",
    "        visualization = show_cam_on_image(rgb_img, grayscale_cam, use_rgb=True)\n",
    "\n",
    "        axs[1,index]. grid(False)\n",
    "        axs[1,index].set_title(f\"GradCam - True - {get_class_name_from_idx(dataset.class_to_idx,sample_targets[k])}, \"\n",
    "                               f\"Prediction - {get_class_name_from_idx(dataset.class_to_idx,pred_idx)}\")\n",
    "        axs[1,index].imshow(visualization)\n",
    "        index += 1\n",
    "        if index == 5:\n",
    "             break\n",
    "    fig.tight_layout()\n",
    "    plt.show()\n",
    "\n",
    "show_example_per_label(test_dataset)"
   ],
   "outputs": [
    {
     "data": {
      "text/plain": [
       "<Figure size 2000x1000 with 10 Axes>"
      ],
      "image/png": "[encoded data removed]"
     },
     "metadata": {},
     "output_type": "display_data"
    }
   ],
   "execution_count": 30
  },
  {
   "cell_type": "markdown",
   "metadata": {
    "id": "Y_6oN4Wlfndu"
   },
   "source": "Second section of grad-cam - generate Grad-CAM heatmaps for several test images (looks for bad examples)\n"
  },
  {
   "metadata": {
    "ExecuteTime": {
     "start_time": "2025-05-13T15:51:35.139001Z"
    }
   },
   "cell_type": "code",
   "source": [
    "from pytorch_grad_cam.utils.model_targets import ClassifierOutputTarget\n",
    "import random\n",
    "import numpy as np\n",
    "\n",
    "cifar10_mean = (0.4914, 0.4822, 0.4465)\n",
    "cifar10_std  = (0.2470, 0.2435, 0.2616)\n",
    "\n",
    "def get_class_name_from_idx(dictionary,idx):\n",
    "    for key, value in dictionary.items():\n",
    "        if value == idx:\n",
    "            return key\n",
    "def show_example_per_label(dataset):\n",
    "    sample_targets = []\n",
    "    sample_indices = []\n",
    "    random.seed(2228)\n",
    "    for k,target in enumerate(dataset.targets):\n",
    "        success= False\n",
    "        while success == False:\n",
    "            if random.random() < 0.05:\n",
    "                rgb_img = dataset.data[k]/255.0\n",
    "                input_tensor = preprocess_image(rgb_img,mean=cifar10_mean,std=cifar10_std).float()\n",
    "                logits = model(input_tensor)\n",
    "                probs = logits.softmax(dim=1).squeeze(0)\n",
    "                pred_idx  = int(probs.argmax())\n",
    "                print(k,target,pred_idx)\n",
    "                if pred_idx != target:\n",
    "                    if not target in sample_targets:\n",
    "                        sample_indices.append(k)\n",
    "                        sample_targets.append(target)\n",
    "                        success = True\n",
    "\n",
    "\n",
    "    sorted_indices_by_target = np.argsort(sample_targets)\n",
    "\n",
    "    fig, axs = plt.subplots(nrows=2, ncols=5, figsize=(20, 10))\n",
    "\n",
    "    index = 0\n",
    "    for k in sorted_indices_by_target[[1, 5, 0, 2, 3]]:\n",
    "\n",
    "        rgb_img = dataset.data[sample_indices[k]]/255.0\n",
    "        category = sample_targets[k]\n",
    "        axs[0,index]. grid(False)\n",
    "        axs[0,index].set_title(f\"Example of category - {get_class_name_from_idx(dataset.class_to_idx,sample_targets[k])}\")\n",
    "        axs[0,index].imshow(rgb_img)\n",
    "\n",
    "        input_tensor = preprocess_image(rgb_img,mean=cifar10_mean,std=cifar10_std).float()\n",
    "\n",
    "        # Show what model predicted\n",
    "        with torch.no_grad():\n",
    "            logits = model(input_tensor)\n",
    "            probs = logits.softmax(dim=1).squeeze(0)\n",
    "            pred_idx  = int(probs.argmax())\n",
    "\n",
    "        grayscale_cam = cam(input_tensor=input_tensor, targets=[ClassifierOutputTarget(category)])\n",
    "        grayscale_cam = grayscale_cam[0, :]\n",
    "        visualization = show_cam_on_image(rgb_img, grayscale_cam, use_rgb=True)\n",
    "\n",
    "        axs[1,index]. grid(False)\n",
    "        axs[1,index].set_title(f\"GradCam - True - {get_class_name_from_idx(dataset.class_to_idx,sample_targets[k])}, \"\n",
    "                               f\"Prediction - {get_class_name_from_idx(dataset.class_to_idx,pred_idx)}\")\n",
    "        axs[1,index].imshow(visualization)\n",
    "        index += 1\n",
    "        if index == 5:\n",
    "             break\n",
    "    fig.tight_layout()\n",
    "    plt.show()\n",
    "\n",
    "show_example_per_label(test_dataset)"
   ],
   "outputs": [
    {
     "name": "stdout",
     "output_type": "stream",
     "text": [
      "0 3 3\n",
      "0 3 3\n",
      "0 3 3\n",
      "0 3 3\n",
      "0 3 3\n",
      "0 3 3\n",
      "0 3 3\n",
      "0 3 3\n",
      "0 3 3\n",
      "0 3 3\n",
      "0 3 3\n",
      "0 3 3\n",
      "0 3 3\n",
      "0 3 3\n",
      "0 3 3\n",
      "0 3 3\n",
      "0 3 3\n",
      "0 3 3\n",
      "0 3 3\n",
      "0 3 3\n",
      "0 3 3\n",
      "0 3 3\n",
      "0 3 3\n",
      "0 3 3\n",
      "0 3 3\n",
      "0 3 3\n",
      "0 3 3\n",
      "0 3 3\n",
      "0 3 3\n",
      "0 3 3\n",
      "0 3 3\n",
      "0 3 3\n",
      "0 3 3\n",
      "0 3 3\n",
      "0 3 3\n",
      "0 3 3\n",
      "0 3 3\n",
      "0 3 3\n",
      "0 3 3\n",
      "0 3 3\n",
      "0 3 3\n",
      "0 3 3\n",
      "0 3 3\n",
      "0 3 3\n",
      "0 3 3\n",
      "0 3 3\n",
      "0 3 3\n",
      "0 3 3\n",
      "0 3 3\n",
      "0 3 3\n",
      "0 3 3\n",
      "0 3 3\n",
      "0 3 3\n",
      "0 3 3\n",
      "0 3 3\n",
      "0 3 3\n",
      "0 3 3\n",
      "0 3 3\n",
      "0 3 3\n",
      "0 3 3\n",
      "0 3 3\n",
      "0 3 3\n",
      "0 3 3\n",
      "0 3 3\n",
      "0 3 3\n",
      "0 3 3\n",
      "0 3 3\n",
      "0 3 3\n",
      "0 3 3\n",
      "0 3 3\n",
      "0 3 3\n",
      "0 3 3\n",
      "0 3 3\n",
      "0 3 3\n",
      "0 3 3\n",
      "0 3 3\n",
      "0 3 3\n",
      "0 3 3\n",
      "0 3 3\n",
      "0 3 3\n",
      "0 3 3\n",
      "0 3 3\n",
      "0 3 3\n",
      "0 3 3\n",
      "0 3 3\n",
      "0 3 3\n",
      "0 3 3\n",
      "0 3 3\n",
      "0 3 3\n",
      "0 3 3\n",
      "0 3 3\n",
      "0 3 3\n",
      "0 3 3\n",
      "0 3 3\n",
      "0 3 3\n",
      "0 3 3\n",
      "0 3 3\n",
      "0 3 3\n",
      "0 3 3\n",
      "0 3 3\n",
      "0 3 3\n",
      "0 3 3\n",
      "0 3 3\n",
      "0 3 3\n",
      "0 3 3\n",
      "0 3 3\n",
      "0 3 3\n",
      "0 3 3\n",
      "0 3 3\n",
      "0 3 3\n",
      "0 3 3\n",
      "0 3 3\n",
      "0 3 3\n",
      "0 3 3\n",
      "0 3 3\n",
      "0 3 3\n",
      "0 3 3\n",
      "0 3 3\n",
      "0 3 3\n",
      "0 3 3\n",
      "0 3 3\n",
      "0 3 3\n",
      "0 3 3\n",
      "0 3 3\n",
      "0 3 3\n",
      "0 3 3\n",
      "0 3 3\n",
      "0 3 3\n",
      "0 3 3\n",
      "0 3 3\n",
      "0 3 3\n",
      "0 3 3\n",
      "0 3 3\n",
      "0 3 3\n",
      "0 3 3\n",
      "0 3 3\n",
      "0 3 3\n",
      "0 3 3\n",
      "0 3 3\n",
      "0 3 3\n",
      "0 3 3\n",
      "0 3 3\n",
      "0 3 3\n",
      "0 3 3\n",
      "0 3 3\n",
      "0 3 3\n",
      "0 3 3\n",
      "0 3 3\n",
      "0 3 3\n",
      "0 3 3\n",
      "0 3 3\n",
      "0 3 3\n",
      "0 3 3\n",
      "0 3 3\n",
      "0 3 3\n",
      "0 3 3\n",
      "0 3 3\n",
      "0 3 3\n",
      "0 3 3\n",
      "0 3 3\n",
      "0 3 3\n",
      "0 3 3\n",
      "0 3 3\n",
      "0 3 3\n",
      "0 3 3\n",
      "0 3 3\n",
      "0 3 3\n",
      "0 3 3\n",
      "0 3 3\n",
      "0 3 3\n",
      "0 3 3\n",
      "0 3 3\n",
      "0 3 3\n",
      "0 3 3\n",
      "0 3 3\n",
      "0 3 3\n",
      "0 3 3\n",
      "0 3 3\n",
      "0 3 3\n",
      "0 3 3\n",
      "0 3 3\n",
      "0 3 3\n",
      "0 3 3\n",
      "0 3 3\n",
      "0 3 3\n",
      "0 3 3\n",
      "0 3 3\n",
      "0 3 3\n",
      "0 3 3\n",
      "0 3 3\n",
      "0 3 3\n",
      "0 3 3\n",
      "0 3 3\n",
      "0 3 3\n",
      "0 3 3\n",
      "0 3 3\n",
      "0 3 3\n",
      "0 3 3\n",
      "0 3 3\n",
      "0 3 3\n",
      "0 3 3\n",
      "0 3 3\n",
      "0 3 3\n",
      "0 3 3\n",
      "0 3 3\n",
      "0 3 3\n",
      "0 3 3\n",
      "0 3 3\n",
      "0 3 3\n",
      "0 3 3\n",
      "0 3 3\n",
      "0 3 3\n",
      "0 3 3\n",
      "0 3 3\n",
      "0 3 3\n",
      "0 3 3\n",
      "0 3 3\n",
      "0 3 3\n",
      "0 3 3\n",
      "0 3 3\n",
      "0 3 3\n",
      "0 3 3\n",
      "0 3 3\n",
      "0 3 3\n",
      "0 3 3\n",
      "0 3 3\n",
      "0 3 3\n",
      "0 3 3\n",
      "0 3 3\n",
      "0 3 3\n",
      "0 3 3\n",
      "0 3 3\n",
      "0 3 3\n",
      "0 3 3\n",
      "0 3 3\n",
      "0 3 3\n",
      "0 3 3\n",
      "0 3 3\n",
      "0 3 3\n",
      "0 3 3\n",
      "0 3 3\n",
      "0 3 3\n",
      "0 3 3\n",
      "0 3 3\n",
      "0 3 3\n",
      "0 3 3\n",
      "0 3 3\n",
      "0 3 3\n",
      "0 3 3\n",
      "0 3 3\n",
      "0 3 3\n",
      "0 3 3\n",
      "0 3 3\n",
      "0 3 3\n",
      "0 3 3\n",
      "0 3 3\n",
      "0 3 3\n",
      "0 3 3\n",
      "0 3 3\n",
      "0 3 3\n",
      "0 3 3\n",
      "0 3 3\n",
      "0 3 3\n",
      "0 3 3\n",
      "0 3 3\n",
      "0 3 3\n",
      "0 3 3\n",
      "0 3 3\n",
      "0 3 3\n",
      "0 3 3\n",
      "0 3 3\n",
      "0 3 3\n",
      "0 3 3\n",
      "0 3 3\n",
      "0 3 3\n",
      "0 3 3\n",
      "0 3 3\n",
      "0 3 3\n",
      "0 3 3\n",
      "0 3 3\n",
      "0 3 3\n",
      "0 3 3\n",
      "0 3 3\n",
      "0 3 3\n",
      "0 3 3\n",
      "0 3 3\n",
      "0 3 3\n",
      "0 3 3\n",
      "0 3 3\n",
      "0 3 3\n",
      "0 3 3\n",
      "0 3 3\n",
      "0 3 3\n",
      "0 3 3\n",
      "0 3 3\n",
      "0 3 3\n",
      "0 3 3\n",
      "0 3 3\n",
      "0 3 3\n",
      "0 3 3\n",
      "0 3 3\n",
      "0 3 3\n",
      "0 3 3\n",
      "0 3 3\n",
      "0 3 3\n",
      "0 3 3\n",
      "0 3 3\n",
      "0 3 3\n",
      "0 3 3\n",
      "0 3 3\n",
      "0 3 3\n",
      "0 3 3\n",
      "0 3 3\n",
      "0 3 3\n",
      "0 3 3\n",
      "0 3 3\n",
      "0 3 3\n",
      "0 3 3\n",
      "0 3 3\n",
      "0 3 3\n",
      "0 3 3\n",
      "0 3 3\n",
      "0 3 3\n",
      "0 3 3\n",
      "0 3 3\n",
      "0 3 3\n",
      "0 3 3\n",
      "0 3 3\n",
      "0 3 3\n",
      "0 3 3\n",
      "0 3 3\n",
      "0 3 3\n",
      "0 3 3\n",
      "0 3 3\n",
      "0 3 3\n",
      "0 3 3\n",
      "0 3 3\n",
      "0 3 3\n",
      "0 3 3\n",
      "0 3 3\n",
      "0 3 3\n",
      "0 3 3\n",
      "0 3 3\n",
      "0 3 3\n",
      "0 3 3\n",
      "0 3 3\n",
      "0 3 3\n",
      "0 3 3\n",
      "0 3 3\n",
      "0 3 3\n",
      "0 3 3\n",
      "0 3 3\n",
      "0 3 3\n",
      "0 3 3\n",
      "0 3 3\n",
      "0 3 3\n",
      "0 3 3\n",
      "0 3 3\n",
      "0 3 3\n",
      "0 3 3\n",
      "0 3 3\n",
      "0 3 3\n",
      "0 3 3\n",
      "0 3 3\n",
      "0 3 3\n",
      "0 3 3\n",
      "0 3 3\n",
      "0 3 3\n",
      "0 3 3\n",
      "0 3 3\n",
      "0 3 3\n",
      "0 3 3\n",
      "0 3 3\n",
      "0 3 3\n",
      "0 3 3\n",
      "0 3 3\n",
      "0 3 3\n",
      "0 3 3\n",
      "0 3 3\n",
      "0 3 3\n",
      "0 3 3\n",
      "0 3 3\n",
      "0 3 3\n",
      "0 3 3\n",
      "0 3 3\n",
      "0 3 3\n",
      "0 3 3\n",
      "0 3 3\n",
      "0 3 3\n",
      "0 3 3\n",
      "0 3 3\n",
      "0 3 3\n",
      "0 3 3\n",
      "0 3 3\n",
      "0 3 3\n",
      "0 3 3\n",
      "0 3 3\n",
      "0 3 3\n",
      "0 3 3\n",
      "0 3 3\n",
      "0 3 3\n",
      "0 3 3\n",
      "0 3 3\n",
      "0 3 3\n",
      "0 3 3\n",
      "0 3 3\n",
      "0 3 3\n",
      "0 3 3\n",
      "0 3 3\n",
      "0 3 3\n",
      "0 3 3\n",
      "0 3 3\n",
      "0 3 3\n",
      "0 3 3\n",
      "0 3 3\n",
      "0 3 3\n",
      "0 3 3\n",
      "0 3 3\n",
      "0 3 3\n",
      "0 3 3\n",
      "0 3 3\n",
      "0 3 3\n",
      "0 3 3\n",
      "0 3 3\n",
      "0 3 3\n",
      "0 3 3\n",
      "0 3 3\n",
      "0 3 3\n",
      "0 3 3\n",
      "0 3 3\n",
      "0 3 3\n",
      "0 3 3\n",
      "0 3 3\n",
      "0 3 3\n",
      "0 3 3\n",
      "0 3 3\n",
      "0 3 3\n",
      "0 3 3\n",
      "0 3 3\n",
      "0 3 3\n",
      "0 3 3\n",
      "0 3 3\n",
      "0 3 3\n",
      "0 3 3\n",
      "0 3 3\n",
      "0 3 3\n",
      "0 3 3\n",
      "0 3 3\n",
      "0 3 3\n",
      "0 3 3\n",
      "0 3 3\n",
      "0 3 3\n",
      "0 3 3\n",
      "0 3 3\n",
      "0 3 3\n",
      "0 3 3\n",
      "0 3 3\n",
      "0 3 3\n",
      "0 3 3\n",
      "0 3 3\n",
      "0 3 3\n",
      "0 3 3\n",
      "0 3 3\n",
      "0 3 3\n",
      "0 3 3\n",
      "0 3 3\n",
      "0 3 3\n",
      "0 3 3\n",
      "0 3 3\n",
      "0 3 3\n",
      "0 3 3\n",
      "0 3 3\n",
      "0 3 3\n",
      "0 3 3\n",
      "0 3 3\n",
      "0 3 3\n",
      "0 3 3\n",
      "0 3 3\n",
      "0 3 3\n",
      "0 3 3\n",
      "0 3 3\n",
      "0 3 3\n",
      "0 3 3\n",
      "0 3 3\n",
      "0 3 3\n",
      "0 3 3\n",
      "0 3 3\n",
      "0 3 3\n",
      "0 3 3\n",
      "0 3 3\n",
      "0 3 3\n",
      "0 3 3\n",
      "0 3 3\n",
      "0 3 3\n",
      "0 3 3\n",
      "0 3 3\n",
      "0 3 3\n",
      "0 3 3\n",
      "0 3 3\n",
      "0 3 3\n",
      "0 3 3\n",
      "0 3 3\n",
      "0 3 3\n",
      "0 3 3\n",
      "0 3 3\n",
      "0 3 3\n",
      "0 3 3\n",
      "0 3 3\n",
      "0 3 3\n",
      "0 3 3\n",
      "0 3 3\n",
      "0 3 3\n",
      "0 3 3\n",
      "0 3 3\n",
      "0 3 3\n",
      "0 3 3\n",
      "0 3 3\n",
      "0 3 3\n",
      "0 3 3\n",
      "0 3 3\n",
      "0 3 3\n",
      "0 3 3\n",
      "0 3 3\n",
      "0 3 3\n",
      "0 3 3\n",
      "0 3 3\n",
      "0 3 3\n",
      "0 3 3\n",
      "0 3 3\n",
      "0 3 3\n",
      "0 3 3\n",
      "0 3 3\n",
      "0 3 3\n",
      "0 3 3\n",
      "0 3 3\n",
      "0 3 3\n",
      "0 3 3\n",
      "0 3 3\n",
      "0 3 3\n",
      "0 3 3\n",
      "0 3 3\n",
      "0 3 3\n",
      "0 3 3\n",
      "0 3 3\n",
      "0 3 3\n",
      "0 3 3\n",
      "0 3 3\n",
      "0 3 3\n",
      "0 3 3\n",
      "0 3 3\n",
      "0 3 3\n",
      "0 3 3\n",
      "0 3 3\n",
      "0 3 3\n",
      "0 3 3\n",
      "0 3 3\n",
      "0 3 3\n",
      "0 3 3\n",
      "0 3 3\n",
      "0 3 3\n",
      "0 3 3\n",
      "0 3 3\n",
      "0 3 3\n",
      "0 3 3\n",
      "0 3 3\n",
      "0 3 3\n",
      "0 3 3\n",
      "0 3 3\n",
      "0 3 3\n",
      "0 3 3\n",
      "0 3 3\n",
      "0 3 3\n",
      "0 3 3\n",
      "0 3 3\n",
      "0 3 3\n",
      "0 3 3\n",
      "0 3 3\n",
      "0 3 3\n",
      "0 3 3\n",
      "0 3 3\n",
      "0 3 3\n",
      "0 3 3\n",
      "0 3 3\n",
      "0 3 3\n",
      "0 3 3\n",
      "0 3 3\n",
      "0 3 3\n",
      "0 3 3\n",
      "0 3 3\n",
      "0 3 3\n",
      "0 3 3\n",
      "0 3 3\n",
      "0 3 3\n",
      "0 3 3\n",
      "0 3 3\n",
      "0 3 3\n",
      "0 3 3\n",
      "0 3 3\n",
      "0 3 3\n",
      "0 3 3\n",
      "0 3 3\n",
      "0 3 3\n",
      "0 3 3\n",
      "0 3 3\n",
      "0 3 3\n",
      "0 3 3\n",
      "0 3 3\n",
      "0 3 3\n",
      "0 3 3\n",
      "0 3 3\n",
      "0 3 3\n",
      "0 3 3\n",
      "0 3 3\n",
      "0 3 3\n",
      "0 3 3\n",
      "0 3 3\n",
      "0 3 3\n",
      "0 3 3\n",
      "0 3 3\n",
      "0 3 3\n",
      "0 3 3\n",
      "0 3 3\n",
      "0 3 3\n",
      "0 3 3\n",
      "0 3 3\n",
      "0 3 3\n",
      "0 3 3\n",
      "0 3 3\n",
      "0 3 3\n",
      "0 3 3\n",
      "0 3 3\n",
      "0 3 3\n",
      "0 3 3\n",
      "0 3 3\n",
      "0 3 3\n",
      "0 3 3\n",
      "0 3 3\n",
      "0 3 3\n",
      "0 3 3\n",
      "0 3 3\n",
      "0 3 3\n",
      "0 3 3\n",
      "0 3 3\n",
      "0 3 3\n",
      "0 3 3\n",
      "0 3 3\n",
      "0 3 3\n",
      "0 3 3\n",
      "0 3 3\n",
      "0 3 3\n",
      "0 3 3\n",
      "0 3 3\n",
      "0 3 3\n",
      "0 3 3\n",
      "0 3 3\n",
      "0 3 3\n",
      "0 3 3\n",
      "0 3 3\n",
      "0 3 3\n",
      "0 3 3\n",
      "0 3 3\n",
      "0 3 3\n",
      "0 3 3\n",
      "0 3 3\n",
      "0 3 3\n",
      "0 3 3\n",
      "0 3 3\n",
      "0 3 3\n",
      "0 3 3\n",
      "0 3 3\n",
      "0 3 3\n",
      "0 3 3\n",
      "0 3 3\n",
      "0 3 3\n",
      "0 3 3\n",
      "0 3 3\n",
      "0 3 3\n",
      "0 3 3\n",
      "0 3 3\n",
      "0 3 3\n",
      "0 3 3\n",
      "0 3 3\n",
      "0 3 3\n",
      "0 3 3\n",
      "0 3 3\n",
      "0 3 3\n",
      "0 3 3\n",
      "0 3 3\n",
      "0 3 3\n",
      "0 3 3\n",
      "0 3 3\n",
      "0 3 3\n",
      "0 3 3\n",
      "0 3 3\n",
      "0 3 3\n",
      "0 3 3\n",
      "0 3 3\n",
      "0 3 3\n",
      "0 3 3\n",
      "0 3 3\n",
      "0 3 3\n",
      "0 3 3\n",
      "0 3 3\n",
      "0 3 3\n",
      "0 3 3\n",
      "0 3 3\n",
      "0 3 3\n",
      "0 3 3\n",
      "0 3 3\n",
      "0 3 3\n",
      "0 3 3\n",
      "0 3 3\n",
      "0 3 3\n",
      "0 3 3\n",
      "0 3 3\n",
      "0 3 3\n",
      "0 3 3\n",
      "0 3 3\n",
      "0 3 3\n",
      "0 3 3\n",
      "0 3 3\n",
      "0 3 3\n",
      "0 3 3\n",
      "0 3 3\n",
      "0 "
     ]
    }
   ],
   "execution_count": null
  },
  {
   "cell_type": "markdown",
   "metadata": {
    "id": "GIBSAFLDj6Q1"
   },
   "source": [
    "## 2. Vision Transformer (ViT) and Attention Visualization\n"
   ]
  },
  {
   "cell_type": "markdown",
   "metadata": {
    "id": "uovuaqHqj8MH"
   },
   "source": [
    "In this section, you will implement a Vision Transformer (ViT) from scratch and compare it to the CNN\n",
    "model developed in Section 1. Additionally, you will visualize attention maps to gain insight into the\n",
    "model’s decision process."
   ]
  },
  {
   "cell_type": "markdown",
   "metadata": {
    "id": "3aq-OFickLAa"
   },
   "source": [
    "### 2.1 Implementing the Vision Transformer"
   ]
  },
  {
   "cell_type": "markdown",
   "metadata": {
    "id": "9XnBOzNKGsCB"
   },
   "source": [
    "a."
   ]
  },
  {
   "metadata": {
    "ExecuteTime": {
     "end_time": "2025-05-13T13:54:32.134741Z",
     "start_time": "2025-05-13T13:54:32.113551Z"
    }
   },
   "cell_type": "code",
   "source": [
    "import torch\n",
    "import torch.nn as nn\n",
    "import torch.nn.functional as F\n",
    "import torchvision\n",
    "import torchvision.transforms as transforms\n",
    "from torch.utils.data import random_split, DataLoader, Subset\n",
    "\n",
    "import pytorch_lightning as pl\n",
    "\n",
    "\"\"\"\n",
    "Main source of information - building-a-vision-transformer-model-from-scratch by Matt Nguyen\n",
    "https://medium.com/correll-lab/building-a-vision-transformer-model-from-scratch-a3054f707cc6\n",
    "We followed the instructions in this tutorial alongside with several more tutorials on youtube and on medium.com\n",
    "3blue1brown series about transformers - https://www.youtube.com/watch?v=wjZofJX0v4M\n",
    "Alexander Otchensashenko turotrial on patch embedding - https://www.youtube.com/watch?v=ZysZnxKZ48I\n",
    "Shusen Wang - Vision Transformer for image Classification - https://www.youtube.com/watch?v=HZ4j_U3FC94\n",
    "Yanik Kilcher - An image is Worth 16x16 words - paper explanations - https://www.youtube.com/watch?v=TrdevFK_am4\n",
    "Nikolaus Correll - Understanding Image Patch Embeddings https://medium.com/p/3d66c14fe7ed\n",
    "\"\"\"\n",
    "\n",
    "class PatchEmbedding(nn.Module):\n",
    "  def __init__(self, d_model, img_size, patch_size, n_channels):\n",
    "    super().__init__()\n",
    "\n",
    "    self.d_model = d_model # Dimensionality of Model - 768\n",
    "    self.img_size = img_size # Image Size - 32\n",
    "    self.patch_size = patch_size # Patch Size - 8\n",
    "    self.n_channels = n_channels # Number of Channels - 3\n",
    "\n",
    "    self.linear_project = nn.Conv2d(self.n_channels, self.d_model, kernel_size=self.patch_size, stride=self.patch_size)\n",
    "\n",
    "  # B: Batch Size - 128\n",
    "  # C: Image Channels - 3\n",
    "  # H: Image Height - 32\n",
    "  # W: Image Width - 32\n",
    "  # P_col: Patch Column - 8\n",
    "  # P_row: Patch Row - 8\n",
    "  def forward(self, x):\n",
    "    x = self.linear_project(x) # (B, C, H, W) -> (B, d_model, P_col, P_row)\n",
    "\n",
    "    x = x.flatten(2) # (B, d_model, P_col, P_row) -> (B, d_model, P)\n",
    "\n",
    "    x = x.transpose(1, 2) # (B, d_model, P) -> (B, P, d_model)\n",
    "\n",
    "    return x\n",
    "\n",
    "class PositionalEncoding(nn.Module):\n",
    "  def __init__(self, d_model, max_seq_length):\n",
    "    super().__init__()\n",
    "\n",
    "    self.cls_token = nn.Parameter(torch.randn(1, 1, d_model)) # Classification Token\n",
    "\n",
    "    # Creating positional encoding\n",
    "    pe = torch.zeros(max_seq_length, d_model) # max_seq_length = n_patches + 1\n",
    "\n",
    "    for pos in range(max_seq_length):\n",
    "      for i in range(d_model):\n",
    "        if i % 2 == 0:\n",
    "          pe[pos][i] = np.sin(pos/(10000 ** (i/d_model)))\n",
    "        else:\n",
    "          pe[pos][i] = np.cos(pos/(10000 ** ((i-1)/d_model)))\n",
    "\n",
    "    self.register_buffer('pe', pe.unsqueeze(0))\n",
    "\n",
    "  def forward(self, x):\n",
    "    # Expand to have class token for every image in batch\n",
    "    tokens_batch = self.cls_token.expand(x.size()[0], -1, -1)\n",
    "\n",
    "    # Adding class tokens to the beginning of each embedding\n",
    "    x = torch.cat((tokens_batch,x), dim=1)\n",
    "\n",
    "    # Add positional encoding to embeddings\n",
    "    x = x + self.pe\n",
    "\n",
    "    return x\n",
    "\n",
    "class AttentionHead(nn.Module):\n",
    "  def __init__(self, d_model, head_size):\n",
    "    super().__init__()\n",
    "    self.head_size = head_size # d_model / n_heads 48\n",
    "\n",
    "    self.query = nn.Linear(d_model, head_size) # (Batch size, n_tokens, head_size)\n",
    "    self.key = nn.Linear(d_model, head_size) # (Batch size, n_tokens, head_size)\n",
    "    self.value = nn.Linear(d_model, head_size) # (Batch size, n_tokens, head_size)\n",
    "\n",
    "  def forward(self, x):\n",
    "    # Obtaining Queries, Keys, and Values\n",
    "    Q = self.query(x)\n",
    "    K = self.key(x)\n",
    "    V = self.value(x)\n",
    "\n",
    "    # Dot Product of Queries and Keys\n",
    "    attention = Q @ K.transpose(-2,-1)\n",
    "\n",
    "    # Scaling\n",
    "    attention = attention / (self.head_size ** 0.5) # (Batch size, n_tokens, n_tokens)\n",
    "\n",
    "    attention = torch.softmax(attention, dim=-1) # (Batch size, n_tokens, n_tokens)\n",
    "\n",
    "    attention = attention @ V\n",
    "\n",
    "    return attention # shape: (Batch size, n_tokens, head_size)\n",
    "\n",
    "class MultiHeadAttention(nn.Module):\n",
    "  def __init__(self, d_model, n_heads):\n",
    "    super().__init__()\n",
    "    self.head_size = d_model // n_heads\n",
    "\n",
    "    self.W_o = nn.Linear(d_model, d_model)\n",
    "\n",
    "    self.heads = nn.ModuleList([AttentionHead(d_model, self.head_size) for _ in range(n_heads)])\n",
    "\n",
    "  def forward(self, x):\n",
    "    # Combine attention heads\n",
    "    out = torch.cat([head(x) for head in self.heads], dim=-1) # Shape: (Batch_size, n_tokens, head_size*num_heads = embedding_dim)\n",
    "\n",
    "    out = self.W_o(out) # Shape: (Batch_size, n_tokens, head_size*num_heads = embedding_dim)\n",
    "\n",
    "    return out\n",
    "\n",
    "class TransformerEncoder(nn.Module):\n",
    "  def __init__(self, d_model, n_heads, r_mlp=4):\n",
    "    super().__init__()\n",
    "    self.d_model = d_model\n",
    "    self.n_heads = n_heads\n",
    "    self.dropout = nn.Dropout(p=0.1)\n",
    "\n",
    "    # Sub-Layer 1 Normalization\n",
    "    self.ln1 = nn.LayerNorm(d_model)\n",
    "\n",
    "    # Multi-Head Attention\n",
    "    self.mha = MultiHeadAttention(d_model, n_heads)\n",
    "\n",
    "    # Sub-Layer 2 Normalization\n",
    "    self.ln2 = nn.LayerNorm(d_model)\n",
    "\n",
    "    # Multilayer Perception\n",
    "    self.mlp = nn.Sequential(\n",
    "        nn.Linear(d_model, d_model*r_mlp),\n",
    "        nn.GELU(),\n",
    "        nn.Linear(d_model*r_mlp, d_model)\n",
    "    )\n",
    "\n",
    "  def forward(self, x):\n",
    "    # Residual Connection After Sub-Layer 1\n",
    "    out = x + self.dropout(self.mha(self.ln1(x)))\n",
    "\n",
    "    # Residual Connection After Sub-Layer 2\n",
    "    out = out + self.dropout(self.mlp(self.ln2(out)))\n",
    "\n",
    "    return out\n",
    "\n",
    "class VisionTransformer(nn.Module):\n",
    "  def __init__(self, d_model, n_classes, img_size, patch_size, n_channels, n_heads, n_layers):\n",
    "    super().__init__()\n",
    "\n",
    "    assert img_size[0] % patch_size[0] == 0 and img_size[1] % patch_size[1] == 0, \"img_size dimensions must be divisible by patch_size dimensions\"\n",
    "    assert d_model % n_heads == 0, \"d_model must be divisible by n_heads\"\n",
    "\n",
    "    self.d_model = d_model # Dimensionality of model\n",
    "    self.n_classes = n_classes # Number of classes\n",
    "    self.img_size = img_size # Image size\n",
    "    self.patch_size = patch_size # Patch size\n",
    "    self.n_channels = n_channels # Number of channels\n",
    "    self.n_heads = n_heads # Number of attention heads\n",
    "    self.dropout = nn.Dropout(p=0.1) # dropout\n",
    "\n",
    "    self.n_patches = (self.img_size[0] * self.img_size[1]) // (self.patch_size[0] * self.patch_size[1])\n",
    "    self.max_seq_length = self.n_patches + 1\n",
    "\n",
    "    self.patch_embedding = PatchEmbedding(self.d_model, self.img_size, self.patch_size, self.n_channels)\n",
    "    self.positional_encoding = PositionalEncoding( self.d_model, self.max_seq_length)\n",
    "    self.transformer_encoder = nn.Sequential(*[TransformerEncoder( self.d_model, self.n_heads) for _ in range(n_layers)])\n",
    "\n",
    "    # Classification MLP\n",
    "    # self.classifier = nn.Sequential(\n",
    "    #     nn.Linear(self.d_model, self.n_classes),\n",
    "    #     nn.Softmax(dim=-1)\n",
    "    # )\n",
    "    self.classifier = nn.Linear(self.d_model, self.n_classes)\n",
    "\n",
    "  def forward(self, images):\n",
    "    x = self.patch_embedding(images)\n",
    "\n",
    "    x = self.positional_encoding(x)\n",
    "\n",
    "    x = self.transformer_encoder(x)\n",
    "\n",
    "    x = self.dropout(x[:, 0])\n",
    "\n",
    "    x = self.classifier(x)\n",
    "\n",
    "    return x\n",
    "\n",
    "import pytorch_lightning as pl\n",
    "import torch.nn.functional as F\n",
    "import torchmetrics\n",
    "import torch\n",
    "\n",
    "class ViTLightningModule(pl.LightningModule):\n",
    "    def __init__(self, d_model=192, n_classes=10, img_size=(32,32), patch_size=(8,8),\n",
    "                 n_channels=3, n_heads=4, n_layers=6, lr=3e-4):\n",
    "        super().__init__()\n",
    "        self.save_hyperparameters()\n",
    "\n",
    "        self.model = VisionTransformer(\n",
    "            d_model=d_model,\n",
    "            n_classes=n_classes,\n",
    "            img_size=img_size,\n",
    "            patch_size=patch_size,\n",
    "            n_channels=n_channels,\n",
    "            n_heads=n_heads,\n",
    "            n_layers=n_layers\n",
    "        )\n",
    "\n",
    "        self.loss_fn = torch.nn.CrossEntropyLoss()\n",
    "        self.lr = lr\n",
    "\n",
    "        # Metrics tracking:\n",
    "        self.train_acc = torchmetrics.Accuracy(task=\"multiclass\", num_classes=n_classes)\n",
    "        self.val_acc   = torchmetrics.Accuracy(task=\"multiclass\", num_classes=n_classes)\n",
    "        self.test_acc  = torchmetrics.Accuracy(task=\"multiclass\", num_classes=n_classes)\n",
    "\n",
    "        self.test_f1  = torchmetrics.F1Score(task='multiclass', num_classes=n_classes, average=None)\n",
    "        self.test_cm  = torchmetrics.ConfusionMatrix(task='multiclass', num_classes=n_classes)\n",
    "\n",
    "    def forward(self, x):\n",
    "        return self.model(x)\n",
    "\n",
    "    def common_step(self, batch):\n",
    "        x, y = batch\n",
    "        logits = self(x)\n",
    "        loss = self.loss_fn(logits, y)\n",
    "        return loss, logits, y\n",
    "\n",
    "    def training_step(self, batch, batch_idx):\n",
    "        loss, logits, y = self.common_step(batch)\n",
    "        preds = torch.argmax(logits, dim=1)\n",
    "        self.train_acc.update(preds, y)\n",
    "        self.log(\"train_acc\", self.train_acc, on_epoch=True, prog_bar=True)\n",
    "        self.log(\"train_loss\", loss, prog_bar=True)\n",
    "        return loss\n",
    "\n",
    "    def validation_step(self, batch, batch_idx):\n",
    "        loss, logits, y = self.common_step(batch)\n",
    "        preds = torch.argmax(logits, dim=1)\n",
    "        self.val_acc.update(preds, y)\n",
    "        self.log(\"val_acc\", self.val_acc, on_epoch=True, prog_bar=True)\n",
    "        self.log(\"validation loss\", loss, prog_bar=True)\n",
    "        return loss\n",
    "\n",
    "    def test_step(self, batch, batch_idx):\n",
    "        loss, logits, y = self.common_step(batch)\n",
    "        preds = torch.argmax(logits, dim=1)\n",
    "        self.test_acc.update(preds, y)\n",
    "        self.test_f1.update(preds, y)\n",
    "        self.test_cm.update(preds, y)\n",
    "        self.log(\"test_acc\", self.test_acc, on_epoch=True, prog_bar=True)\n",
    "        self.log(\"test loss\", loss, prog_bar=True)\n",
    "        return loss\n",
    "\n",
    "    def predict_step(self, batch, batch_idx):\n",
    "        x, _ = batch\n",
    "        logits = self(x)\n",
    "        preds = torch.argmax(logits, dim=1)\n",
    "        return preds\n",
    "\n",
    "    def on_test_epoch_end(self):\n",
    "        def plot_f1_scores(f1):\n",
    "                    f1 = f1.detach().cpu().numpy()\n",
    "                    class_names = [str(i) for i in range(10)]\n",
    "                    fig, ax = plt.subplots(figsize=(8, 5))\n",
    "                    bars = ax.bar(class_names, f1, alpha=0.7, edgecolor='black')\n",
    "\n",
    "                    ax.set_xlabel(\"Class\")\n",
    "                    ax.set_ylabel(\"F1 score\")\n",
    "                    ax.set_title(f\"Per class F1 (macro ≈ {f1.mean():.4f})\")\n",
    "                    ax.set_ylim(0, 1.1)\n",
    "                    ax.grid(axis='y', linestyle='--', alpha=0.5)\n",
    "\n",
    "                    for bar, score in zip(bars, f1):\n",
    "                        ax.text(bar.get_x() + bar.get_width() / 2,\n",
    "                                score + 0.02,\n",
    "                                f\"{score:.2f}\",\n",
    "                                ha='center', va='bottom', fontsize=10, fontweight='bold')\n",
    "\n",
    "                    fig.tight_layout()\n",
    "                    return fig\n",
    "\n",
    "        def plot_conf_matrix(conf_mat):\n",
    "            conf_mat = conf_mat.detach().cpu().numpy()\n",
    "            row_sums = conf_mat.sum(axis=1, keepdims=True)\n",
    "            conf_norm = np.divide(conf_mat, row_sums)\n",
    "            n_classes = conf_norm.shape[0]\n",
    "            class_names = [str(i) for i in range(n_classes)]\n",
    "            df = pd.DataFrame(conf_norm, index=class_names, columns=class_names)\n",
    "\n",
    "            fig, ax = plt.subplots(figsize=(8, 6))\n",
    "            sns.heatmap(\n",
    "                df,\n",
    "                annot=True,\n",
    "                fmt=\".2f\",\n",
    "                cmap=\"Blues\",\n",
    "                vmin=0, vmax=1,\n",
    "                cbar=True,\n",
    "                ax=ax\n",
    "            )\n",
    "            ax.set_xlabel(\"Predicted label\")\n",
    "            ax.set_ylabel(\"True label\")\n",
    "            ax.set_title(\"Confusion matrix (row normalised)\")\n",
    "            fig.tight_layout()\n",
    "\n",
    "            return fig\n",
    "\n",
    "        f1_per_class =  self.test_f1.compute()\n",
    "        fig1 = plot_f1_scores(f1_per_class)\n",
    "        conf_mat = self.test_cm.compute()\n",
    "        fig2 = plot_conf_matrix(conf_mat)\n",
    "\n",
    "\n",
    "        self.logger.log_image(\"f1_scores\",[fig1])\n",
    "        self.logger.log_image(\"confusion_matrix\",[fig2])\n",
    "\n",
    "        self.test_f1.reset()\n",
    "        self.test_cm.reset()\n",
    "\n",
    "    def configure_optimizers(self):\n",
    "        return torch.optim.AdamW(self.parameters(), lr=self.lr)\n",
    "\n",
    "\n",
    "if __name__ == \"__main__\":\n",
    "    pass\n",
    "    # Test the workflow\n",
    "    # d = 768\n",
    "    # im_size = 32\n",
    "    # patch_size = 8\n",
    "    # n_channels = 3\n",
    "    # n_heads = 16\n",
    "    # head_size = d//n_heads\n",
    "    #\n",
    "    # patch_number = (im_size // patch_size)**2\n",
    "    #\n",
    "    # embedding = PatchEmbedding(d, im_size, patch_size, n_channels)\n",
    "    # image = test_dataset.data[0]/ 255.0\n",
    "    # tensor_image = torch.from_numpy(image)\n",
    "    # tensor_image = tensor_image.permute(2, 0, 1)  # From (H, W, C) to (C, H, W)\n",
    "    # tensor_image = tensor_image.unsqueeze(0).float()   # Shape becomes (1, C, H, W)\n",
    "    # print(\"image shape: \" + str(tensor_image.shape))  # Should be (1, 3, 224, 224)\n",
    "    # embedding = embedding.forward(tensor_image)\n",
    "    # print(\"embedding shape: \" + str(embedding.shape))\n",
    "    # positional_embedding = PositionalEncoding (d,patch_number+1)\n",
    "    # embedding = positional_embedding.forward(embedding)\n",
    "    # print(\"total embedding shape: \" + str(embedding.shape))\n",
    "    # multi_head_attention = MultiHeadAttention(d, n_heads)\n",
    "    # embedding = multi_head_attention.forward(embedding)\n",
    "    # print(\"total embedding shape after mha: \" + str(embedding.shape))\n",
    "\n"
   ],
   "outputs": [],
   "execution_count": 13
  },
  {
   "metadata": {
    "id": "pDJTV2p6koSR"
   },
   "cell_type": "markdown",
   "source": "b. Your model should achieve an accuracy of at least 0.70 on the training set, and at least 0.60 on both the validation and test sets."
  },
  {
   "metadata": {},
   "cell_type": "markdown",
   "source": "first - oversample the data - to add more trainig samples"
  },
  {
   "metadata": {
    "ExecuteTime": {
     "end_time": "2025-05-13T13:54:48.846346Z",
     "start_time": "2025-05-13T13:54:46.795177Z"
    }
   },
   "cell_type": "code",
   "source": [
    "BATCH_SIZE = 256\n",
    "\n",
    "class OversampledDataset(torch.utils.data.Dataset):\n",
    "    def __init__(self, base_dataset, copies=3):\n",
    "        self.base_dataset = base_dataset\n",
    "        self.copies = copies\n",
    "\n",
    "    def __len__(self):\n",
    "        return len(self.base_dataset) * self.copies\n",
    "\n",
    "    def __getitem__(self, idx):\n",
    "        base_idx = idx % len(self.base_dataset)\n",
    "        return self.base_dataset[base_idx]\n",
    "\n",
    "cifar10_mean = (0.4914, 0.4822, 0.4465)\n",
    "cifar10_std  = (0.2470, 0.2435, 0.2616)\n",
    "\n",
    "train_augmented_transform = transforms.Compose([\n",
    "    transforms.RandomApply([transforms.RandomCrop(32, padding=4)], p=0.33),\n",
    "    transforms.RandomHorizontalFlip(p=0.33),\n",
    "    transforms.RandomApply([transforms.ColorJitter(0.2, 0.2, 0.2, 0.1)], p=0.33),\n",
    "    transforms.RandomApply([transforms.RandomRotation(15)],p=0.33),\n",
    "    transforms.ToTensor(),\n",
    "    transforms.Normalize(cifar10_mean,cifar10_std)\n",
    "])\n",
    "\n",
    "test_transform = transforms.Compose([\n",
    "    transforms.ToTensor(),\n",
    "    transforms.Normalize(cifar10_mean,cifar10_std)\n",
    "])\n",
    "\n",
    "full_dataset = torchvision.datasets.CIFAR10(\n",
    "    root='./data', train=True, download=True, transform=train_augmented_transform)\n",
    "\n",
    "validation_dataset = torchvision.datasets.CIFAR10(\n",
    "    root='./data', train=True, download=True, transform=test_transform)\n",
    "\n",
    "test_dataset = torchvision.datasets.CIFAR10(root='./data', train=False, download=True, transform=test_transform)\n",
    "\n",
    "\n",
    "\n",
    "targets = full_dataset.targets\n",
    "\n",
    "train_idx, valid_idx= train_test_split(\n",
    "    np.arange(len(targets)), test_size=0.4, random_state=24, shuffle=True, stratify=targets)\n",
    "\n",
    "train_dataset = Subset(full_dataset, train_idx)\n",
    "validation_dataset = Subset(validation_dataset, valid_idx)\n",
    "\n",
    "# Apply transform to original CIFAR-10\n",
    "oversampled_train_dataset = OversampledDataset(train_dataset, copies=3)\n",
    "train_loader = DataLoader(oversampled_train_dataset, batch_size=BATCH_SIZE, shuffle=True)\n",
    "validation_loader   = DataLoader(validation_dataset, batch_size=BATCH_SIZE, shuffle=False)\n",
    "\n",
    "test_loader = DataLoader(dataset=test_dataset, batch_size=BATCH_SIZE, shuffle=False)\n",
    "\n"
   ],
   "outputs": [],
   "execution_count": 15
  },
  {
   "metadata": {
    "id": "ltGRzNoNkhyG",
    "ExecuteTime": {
     "end_time": "2025-05-13T14:09:51.909049Z",
     "start_time": "2025-05-13T13:54:50.132171Z"
    }
   },
   "cell_type": "code",
   "source": [
    "from pytorch_lightning.loggers import WandbLogger\n",
    "import numpy as np\n",
    "from pytorch_lightning.callbacks import EarlyStopping\n",
    "from pytorch_lightning.callbacks import ModelCheckpoint\n",
    "\n",
    "\n",
    "# 🪄 Init wandb logger\n",
    "wandb_logger = WandbLogger(project=\"ViT-CIFAR10\", log_model=True)\n",
    "\n",
    "# ⚡ Instantiate model and trainer\n",
    "model = ViTLightningModule(lr=3e-4,d_model=256,n_heads=8,n_layers=4)\n",
    "\n",
    "# Define the checkpoint callback\n",
    "early_stop = EarlyStopping(monitor=\"validation loss\",mode=\"min\", patience=10, verbose=True)\n",
    "checkpoint_callback = ModelCheckpoint(save_top_k=1, monitor=\"validation loss\", mode=\"min\",verbose=True)\n",
    "\n",
    "trainer = pl.Trainer(accelerator=\"gpu\",devices=[0],min_epochs=5,max_epochs=50,callbacks=[early_stop,checkpoint_callback],logger=wandb_logger)\n",
    "\n",
    "trainer.fit(model,train_loader,validation_loader)"
   ],
   "outputs": [
    {
     "name": "stderr",
     "output_type": "stream",
     "text": [
      "GPU available: True (cuda), used: True\n",
      "TPU available: False, using: 0 TPU cores\n",
      "HPU available: False, using: 0 HPUs\n",
      "You are using a CUDA device ('NVIDIA GeForce RTX 4060 Laptop GPU') that has Tensor Cores. To properly utilize them, you should set `torch.set_float32_matmul_precision('medium' | 'high')` which will trade-off precision for performance. For more details, read https://pytorch.org/docs/stable/generated/torch.set_float32_matmul_precision.html#torch.set_float32_matmul_precision\n",
      "wandb: Currently logged in as: ndvamr (ndvamr-ben-gurion-university-of-the-negev) to https://api.wandb.ai. Use `wandb login --relogin` to force relogin\n"
     ]
    },
    {
     "data": {
      "text/plain": [
       "<IPython.core.display.HTML object>"
      ],
      "text/html": [
       "Tracking run with wandb version 0.19.11"
      ]
     },
     "metadata": {},
     "output_type": "display_data"
    },
    {
     "data": {
      "text/plain": [
       "<IPython.core.display.HTML object>"
      ],
      "text/html": [
       "Run data is saved locally in <code>.\\wandb\\run-20250513_165451-qahrxi7k</code>"
      ]
     },
     "metadata": {},
     "output_type": "display_data"
    },
    {
     "data": {
      "text/plain": [
       "<IPython.core.display.HTML object>"
      ],
      "text/html": [
       "Syncing run <strong><a href='https://wandb.ai/ndvamr-ben-gurion-university-of-the-negev/ViT-CIFAR10/runs/qahrxi7k' target=\"_blank\">whole-eon-3</a></strong> to <a href='https://wandb.ai/ndvamr-ben-gurion-university-of-the-negev/ViT-CIFAR10' target=\"_blank\">Weights & Biases</a> (<a href='https://wandb.me/developer-guide' target=\"_blank\">docs</a>)<br>"
      ]
     },
     "metadata": {},
     "output_type": "display_data"
    },
    {
     "data": {
      "text/plain": [
       "<IPython.core.display.HTML object>"
      ],
      "text/html": [
       " View project at <a href='https://wandb.ai/ndvamr-ben-gurion-university-of-the-negev/ViT-CIFAR10' target=\"_blank\">https://wandb.ai/ndvamr-ben-gurion-university-of-the-negev/ViT-CIFAR10</a>"
      ]
     },
     "metadata": {},
     "output_type": "display_data"
    },
    {
     "data": {
      "text/plain": [
       "<IPython.core.display.HTML object>"
      ],
      "text/html": [
       " View run at <a href='https://wandb.ai/ndvamr-ben-gurion-university-of-the-negev/ViT-CIFAR10/runs/qahrxi7k' target=\"_blank\">https://wandb.ai/ndvamr-ben-gurion-university-of-the-negev/ViT-CIFAR10/runs/qahrxi7k</a>"
      ]
     },
     "metadata": {},
     "output_type": "display_data"
    },
    {
     "name": "stderr",
     "output_type": "stream",
     "text": [
      "LOCAL_RANK: 0 - CUDA_VISIBLE_DEVICES: [0]\n",
      "\n",
      "  | Name      | Type                      | Params | Mode \n",
      "----------------------------------------------------------------\n",
      "0 | model     | VisionTransformer         | 3.2 M  | train\n",
      "1 | loss_fn   | CrossEntropyLoss          | 0      | train\n",
      "2 | train_acc | MulticlassAccuracy        | 0      | train\n",
      "3 | val_acc   | MulticlassAccuracy        | 0      | train\n",
      "4 | test_acc  | MulticlassAccuracy        | 0      | train\n",
      "5 | test_f1   | MulticlassF1Score         | 0      | train\n",
      "6 | test_cm   | MulticlassConfusionMatrix | 0      | train\n",
      "----------------------------------------------------------------\n",
      "3.2 M     Trainable params\n",
      "0         Non-trainable params\n",
      "3.2 M     Total params\n",
      "12.845    Total estimated model params size (MB)\n",
      "185       Modules in train mode\n",
      "0         Modules in eval mode\n"
     ]
    },
    {
     "data": {
      "text/plain": [
       "Sanity Checking: |          | 0/? [00:00<?, ?it/s]"
      ],
      "application/vnd.jupyter.widget-view+json": {
       "version_major": 2,
       "version_minor": 0,
       "model_id": "1779aaec77b844f2b3825224224af301"
      }
     },
     "metadata": {},
     "output_type": "display_data"
    },
    {
     "name": "stderr",
     "output_type": "stream",
     "text": [
      "C:\\Users\\ndvam\\anaconda3\\Lib\\site-packages\\pytorch_lightning\\trainer\\connectors\\data_connector.py:425: The 'val_dataloader' does not have many workers which may be a bottleneck. Consider increasing the value of the `num_workers` argument` to `num_workers=15` in the `DataLoader` to improve performance.\n",
      "C:\\Users\\ndvam\\anaconda3\\Lib\\site-packages\\pytorch_lightning\\trainer\\connectors\\data_connector.py:425: The 'train_dataloader' does not have many workers which may be a bottleneck. Consider increasing the value of the `num_workers` argument` to `num_workers=15` in the `DataLoader` to improve performance.\n"
     ]
    },
    {
     "data": {
      "text/plain": [
       "Training: |          | 0/? [00:00<?, ?it/s]"
      ],
      "application/vnd.jupyter.widget-view+json": {
       "version_major": 2,
       "version_minor": 0,
       "model_id": "ab651c8e490b44fd8bd9a04b706aa091"
      }
     },
     "metadata": {},
     "output_type": "display_data"
    },
    {
     "data": {
      "text/plain": [
       "Validation: |          | 0/? [00:00<?, ?it/s]"
      ],
      "application/vnd.jupyter.widget-view+json": {
       "version_major": 2,
       "version_minor": 0,
       "model_id": "5ffcd44a3ed947248fb4c232719be44d"
      }
     },
     "metadata": {},
     "output_type": "display_data"
    },
    {
     "name": "stderr",
     "output_type": "stream",
     "text": [
      "Metric validation loss improved. New best score: 1.374\n",
      "Epoch 0, global step 352: 'validation loss' reached 1.37362 (best 1.37362), saving model to '.\\\\ViT-CIFAR10\\\\qahrxi7k\\\\checkpoints\\\\epoch=0-step=352.ckpt' as top 1\n"
     ]
    },
    {
     "data": {
      "text/plain": [
       "Validation: |          | 0/? [00:00<?, ?it/s]"
      ],
      "application/vnd.jupyter.widget-view+json": {
       "version_major": 2,
       "version_minor": 0,
       "model_id": "add58b3bf984489189741aa3657b2bbe"
      }
     },
     "metadata": {},
     "output_type": "display_data"
    },
    {
     "name": "stderr",
     "output_type": "stream",
     "text": [
      "Metric validation loss improved by 0.164 >= min_delta = 0.0. New best score: 1.209\n",
      "Epoch 1, global step 704: 'validation loss' reached 1.20934 (best 1.20934), saving model to '.\\\\ViT-CIFAR10\\\\qahrxi7k\\\\checkpoints\\\\epoch=1-step=704.ckpt' as top 1\n"
     ]
    },
    {
     "data": {
      "text/plain": [
       "Validation: |          | 0/? [00:00<?, ?it/s]"
      ],
      "application/vnd.jupyter.widget-view+json": {
       "version_major": 2,
       "version_minor": 0,
       "model_id": "3f52d64078e647479a8cb1027d4b43b7"
      }
     },
     "metadata": {},
     "output_type": "display_data"
    },
    {
     "name": "stderr",
     "output_type": "stream",
     "text": [
      "Metric validation loss improved by 0.046 >= min_delta = 0.0. New best score: 1.164\n",
      "Epoch 2, global step 1056: 'validation loss' reached 1.16367 (best 1.16367), saving model to '.\\\\ViT-CIFAR10\\\\qahrxi7k\\\\checkpoints\\\\epoch=2-step=1056.ckpt' as top 1\n"
     ]
    },
    {
     "data": {
      "text/plain": [
       "Validation: |          | 0/? [00:00<?, ?it/s]"
      ],
      "application/vnd.jupyter.widget-view+json": {
       "version_major": 2,
       "version_minor": 0,
       "model_id": "d19a9c97ad58433497833bf49c8ee419"
      }
     },
     "metadata": {},
     "output_type": "display_data"
    },
    {
     "name": "stderr",
     "output_type": "stream",
     "text": [
      "Metric validation loss improved by 0.064 >= min_delta = 0.0. New best score: 1.100\n",
      "Epoch 3, global step 1408: 'validation loss' reached 1.09970 (best 1.09970), saving model to '.\\\\ViT-CIFAR10\\\\qahrxi7k\\\\checkpoints\\\\epoch=3-step=1408.ckpt' as top 1\n"
     ]
    },
    {
     "data": {
      "text/plain": [
       "Validation: |          | 0/? [00:00<?, ?it/s]"
      ],
      "application/vnd.jupyter.widget-view+json": {
       "version_major": 2,
       "version_minor": 0,
       "model_id": "380edb21dd064271a3e4de5f668a9074"
      }
     },
     "metadata": {},
     "output_type": "display_data"
    },
    {
     "name": "stderr",
     "output_type": "stream",
     "text": [
      "Metric validation loss improved by 0.041 >= min_delta = 0.0. New best score: 1.059\n",
      "Epoch 4, global step 1760: 'validation loss' reached 1.05899 (best 1.05899), saving model to '.\\\\ViT-CIFAR10\\\\qahrxi7k\\\\checkpoints\\\\epoch=4-step=1760.ckpt' as top 1\n"
     ]
    },
    {
     "data": {
      "text/plain": [
       "Validation: |          | 0/? [00:00<?, ?it/s]"
      ],
      "application/vnd.jupyter.widget-view+json": {
       "version_major": 2,
       "version_minor": 0,
       "model_id": "32b30c6b162a4c99a42d6569034cf461"
      }
     },
     "metadata": {},
     "output_type": "display_data"
    },
    {
     "name": "stderr",
     "output_type": "stream",
     "text": [
      "Metric validation loss improved by 0.035 >= min_delta = 0.0. New best score: 1.024\n",
      "Epoch 5, global step 2112: 'validation loss' reached 1.02425 (best 1.02425), saving model to '.\\\\ViT-CIFAR10\\\\qahrxi7k\\\\checkpoints\\\\epoch=5-step=2112.ckpt' as top 1\n"
     ]
    },
    {
     "data": {
      "text/plain": [
       "Validation: |          | 0/? [00:00<?, ?it/s]"
      ],
      "application/vnd.jupyter.widget-view+json": {
       "version_major": 2,
       "version_minor": 0,
       "model_id": "07d5bcdbf7b84036841c49982737c940"
      }
     },
     "metadata": {},
     "output_type": "display_data"
    },
    {
     "name": "stderr",
     "output_type": "stream",
     "text": [
      "Epoch 6, global step 2464: 'validation loss' was not in top 1\n"
     ]
    },
    {
     "data": {
      "text/plain": [
       "Validation: |          | 0/? [00:00<?, ?it/s]"
      ],
      "application/vnd.jupyter.widget-view+json": {
       "version_major": 2,
       "version_minor": 0,
       "model_id": "58064306b5744b3bb8fe57b6301a2640"
      }
     },
     "metadata": {},
     "output_type": "display_data"
    },
    {
     "name": "stderr",
     "output_type": "stream",
     "text": [
      "Metric validation loss improved by 0.015 >= min_delta = 0.0. New best score: 1.009\n",
      "Epoch 7, global step 2816: 'validation loss' reached 1.00893 (best 1.00893), saving model to '.\\\\ViT-CIFAR10\\\\qahrxi7k\\\\checkpoints\\\\epoch=7-step=2816.ckpt' as top 1\n"
     ]
    },
    {
     "data": {
      "text/plain": [
       "Validation: |          | 0/? [00:00<?, ?it/s]"
      ],
      "application/vnd.jupyter.widget-view+json": {
       "version_major": 2,
       "version_minor": 0,
       "model_id": "e75861d8220c439a8cdce0262480d105"
      }
     },
     "metadata": {},
     "output_type": "display_data"
    },
    {
     "name": "stderr",
     "output_type": "stream",
     "text": [
      "Metric validation loss improved by 0.022 >= min_delta = 0.0. New best score: 0.987\n",
      "Epoch 8, global step 3168: 'validation loss' reached 0.98658 (best 0.98658), saving model to '.\\\\ViT-CIFAR10\\\\qahrxi7k\\\\checkpoints\\\\epoch=8-step=3168.ckpt' as top 1\n"
     ]
    },
    {
     "data": {
      "text/plain": [
       "Validation: |          | 0/? [00:00<?, ?it/s]"
      ],
      "application/vnd.jupyter.widget-view+json": {
       "version_major": 2,
       "version_minor": 0,
       "model_id": "bd365ce4301b4fe58078ab8470d56dae"
      }
     },
     "metadata": {},
     "output_type": "display_data"
    },
    {
     "name": "stderr",
     "output_type": "stream",
     "text": [
      "Epoch 9, global step 3520: 'validation loss' was not in top 1\n"
     ]
    },
    {
     "data": {
      "text/plain": [
       "Validation: |          | 0/? [00:00<?, ?it/s]"
      ],
      "application/vnd.jupyter.widget-view+json": {
       "version_major": 2,
       "version_minor": 0,
       "model_id": "edbd50ddb8cc476aaa12a01469925e25"
      }
     },
     "metadata": {},
     "output_type": "display_data"
    },
    {
     "name": "stderr",
     "output_type": "stream",
     "text": [
      "Epoch 10, global step 3872: 'validation loss' was not in top 1\n"
     ]
    },
    {
     "data": {
      "text/plain": [
       "Validation: |          | 0/? [00:00<?, ?it/s]"
      ],
      "application/vnd.jupyter.widget-view+json": {
       "version_major": 2,
       "version_minor": 0,
       "model_id": "5dd5586b8c764587bd706d311d08a8b0"
      }
     },
     "metadata": {},
     "output_type": "display_data"
    },
    {
     "name": "stderr",
     "output_type": "stream",
     "text": [
      "Epoch 11, global step 4224: 'validation loss' was not in top 1\n"
     ]
    },
    {
     "data": {
      "text/plain": [
       "Validation: |          | 0/? [00:00<?, ?it/s]"
      ],
      "application/vnd.jupyter.widget-view+json": {
       "version_major": 2,
       "version_minor": 0,
       "model_id": "e51a1ba3cb46419a82066d99123cc9e5"
      }
     },
     "metadata": {},
     "output_type": "display_data"
    },
    {
     "name": "stderr",
     "output_type": "stream",
     "text": [
      "Epoch 12, global step 4576: 'validation loss' was not in top 1\n"
     ]
    },
    {
     "data": {
      "text/plain": [
       "Validation: |          | 0/? [00:00<?, ?it/s]"
      ],
      "application/vnd.jupyter.widget-view+json": {
       "version_major": 2,
       "version_minor": 0,
       "model_id": "1e6c1f2b56ac4acc9bf84d7e0a79ca8b"
      }
     },
     "metadata": {},
     "output_type": "display_data"
    },
    {
     "name": "stderr",
     "output_type": "stream",
     "text": [
      "Epoch 13, global step 4928: 'validation loss' was not in top 1\n"
     ]
    },
    {
     "data": {
      "text/plain": [
       "Validation: |          | 0/? [00:00<?, ?it/s]"
      ],
      "application/vnd.jupyter.widget-view+json": {
       "version_major": 2,
       "version_minor": 0,
       "model_id": "21c8a2ed938c45b8a350a7005d80f8d9"
      }
     },
     "metadata": {},
     "output_type": "display_data"
    },
    {
     "name": "stderr",
     "output_type": "stream",
     "text": [
      "Epoch 14, global step 5280: 'validation loss' was not in top 1\n"
     ]
    },
    {
     "data": {
      "text/plain": [
       "Validation: |          | 0/? [00:00<?, ?it/s]"
      ],
      "application/vnd.jupyter.widget-view+json": {
       "version_major": 2,
       "version_minor": 0,
       "model_id": "64e1218196bd4a029bcf5c199f277b2a"
      }
     },
     "metadata": {},
     "output_type": "display_data"
    },
    {
     "name": "stderr",
     "output_type": "stream",
     "text": [
      "Epoch 15, global step 5632: 'validation loss' was not in top 1\n"
     ]
    },
    {
     "data": {
      "text/plain": [
       "Validation: |          | 0/? [00:00<?, ?it/s]"
      ],
      "application/vnd.jupyter.widget-view+json": {
       "version_major": 2,
       "version_minor": 0,
       "model_id": "f34b7456a19c492c8b6f79ed85ee4bc5"
      }
     },
     "metadata": {},
     "output_type": "display_data"
    },
    {
     "name": "stderr",
     "output_type": "stream",
     "text": [
      "Epoch 16, global step 5984: 'validation loss' was not in top 1\n"
     ]
    },
    {
     "data": {
      "text/plain": [
       "Validation: |          | 0/? [00:00<?, ?it/s]"
      ],
      "application/vnd.jupyter.widget-view+json": {
       "version_major": 2,
       "version_minor": 0,
       "model_id": "ea9923d63c634e85a35ed47515b311a2"
      }
     },
     "metadata": {},
     "output_type": "display_data"
    },
    {
     "name": "stderr",
     "output_type": "stream",
     "text": [
      "Epoch 17, global step 6336: 'validation loss' was not in top 1\n"
     ]
    },
    {
     "data": {
      "text/plain": [
       "Validation: |          | 0/? [00:00<?, ?it/s]"
      ],
      "application/vnd.jupyter.widget-view+json": {
       "version_major": 2,
       "version_minor": 0,
       "model_id": "4e2e9683f11749c192fd09d41f9f4a38"
      }
     },
     "metadata": {},
     "output_type": "display_data"
    },
    {
     "name": "stderr",
     "output_type": "stream",
     "text": [
      "Monitored metric validation loss did not improve in the last 10 records. Best score: 0.987. Signaling Trainer to stop.\n",
      "Epoch 18, global step 6688: 'validation loss' was not in top 1\n"
     ]
    }
   ],
   "execution_count": 16
  },
  {
   "metadata": {
    "id": "kDumUnhsHMzQ"
   },
   "cell_type": "markdown",
   "source": "c."
  },
  {
   "cell_type": "code",
   "metadata": {
    "id": "vV6DezK3ruaV",
    "ExecuteTime": {
     "end_time": "2025-05-13T12:08:29.461917Z",
     "start_time": "2025-05-13T12:08:21.027549Z"
    }
   },
   "source": [
    "# 🔍 Evaluate\n",
    "best_model = ViTLightningModule.load_from_checkpoint(checkpoint_callback.best_model_path)\n",
    "\n",
    "trainer.validate(model=best_model,dataloaders=validation_loader)\n",
    "\n",
    "trainer.test(model, dataloaders=test_loader)\n",
    "\n",
    "#Show F1 score and confusion matrix you can do it in def on_test_epoch_end(self): and log it to wandb\n",
    "\n",
    "# 💾 Save the model in thr last epoch if saved by metric\n",
    "trainer.save_checkpoint(\"vit_cifar10_best.ckpt\")\n",
    "#Show F1 score and confusion matrix you can do it in def on_test_epoch_end(self): and log it to wandb"
   ],
   "outputs": [
    {
     "name": "stderr",
     "output_type": "stream",
     "text": [
      "LOCAL_RANK: 0 - CUDA_VISIBLE_DEVICES: [0]\n"
     ]
    },
    {
     "data": {
      "text/plain": [
       "Validation: |          | 0/? [00:00<?, ?it/s]"
      ],
      "application/vnd.jupyter.widget-view+json": {
       "version_major": 2,
       "version_minor": 0,
       "model_id": "b8ca8131a2d8405b9f897865a2384354"
      }
     },
     "metadata": {},
     "output_type": "display_data"
    },
    {
     "data": {
      "text/plain": [
       "┏━━━━━━━━━━━━━━━━━━━━━━━━━━━┳━━━━━━━━━━━━━━━━━━━━━━━━━━━┓\n",
       "┃\u001B[1m \u001B[0m\u001B[1m     Validate metric     \u001B[0m\u001B[1m \u001B[0m┃\u001B[1m \u001B[0m\u001B[1m      DataLoader 0       \u001B[0m\u001B[1m \u001B[0m┃\n",
       "┡━━━━━━━━━━━━━━━━━━━━━━━━━━━╇━━━━━━━━━━━━━━━━━━━━━━━━━━━┩\n",
       "│\u001B[36m \u001B[0m\u001B[36m         val_acc         \u001B[0m\u001B[36m \u001B[0m│\u001B[35m \u001B[0m\u001B[35m   0.5551000237464905    \u001B[0m\u001B[35m \u001B[0m│\n",
       "│\u001B[36m \u001B[0m\u001B[36m     validation loss     \u001B[0m\u001B[36m \u001B[0m│\u001B[35m \u001B[0m\u001B[35m   1.2701283693313599    \u001B[0m\u001B[35m \u001B[0m│\n",
       "└───────────────────────────┴───────────────────────────┘\n"
      ],
      "text/html": [
       "<pre style=\"white-space:pre;overflow-x:auto;line-height:normal;font-family:Menlo,'DejaVu Sans Mono',consolas,'Courier New',monospace\">┏━━━━━━━━━━━━━━━━━━━━━━━━━━━┳━━━━━━━━━━━━━━━━━━━━━━━━━━━┓\n",
       "┃<span style=\"font-weight: bold\">      Validate metric      </span>┃<span style=\"font-weight: bold\">       DataLoader 0        </span>┃\n",
       "┡━━━━━━━━━━━━━━━━━━━━━━━━━━━╇━━━━━━━━━━━━━━━━━━━━━━━━━━━┩\n",
       "│<span style=\"color: #008080; text-decoration-color: #008080\">          val_acc          </span>│<span style=\"color: #800080; text-decoration-color: #800080\">    0.5551000237464905     </span>│\n",
       "│<span style=\"color: #008080; text-decoration-color: #008080\">      validation loss      </span>│<span style=\"color: #800080; text-decoration-color: #800080\">    1.2701283693313599     </span>│\n",
       "└───────────────────────────┴───────────────────────────┘\n",
       "</pre>\n"
      ]
     },
     "metadata": {},
     "output_type": "display_data"
    },
    {
     "name": "stderr",
     "output_type": "stream",
     "text": [
      "LOCAL_RANK: 0 - CUDA_VISIBLE_DEVICES: [0]\n",
      "C:\\Users\\ndvam\\anaconda3\\Lib\\site-packages\\pytorch_lightning\\trainer\\connectors\\data_connector.py:425: The 'test_dataloader' does not have many workers which may be a bottleneck. Consider increasing the value of the `num_workers` argument` to `num_workers=15` in the `DataLoader` to improve performance.\n"
     ]
    },
    {
     "data": {
      "text/plain": [
       "Testing: |          | 0/? [00:00<?, ?it/s]"
      ],
      "application/vnd.jupyter.widget-view+json": {
       "version_major": 2,
       "version_minor": 0,
       "model_id": "39963bfca7874fe89bf542bb8029694f"
      }
     },
     "metadata": {},
     "output_type": "display_data"
    },
    {
     "data": {
      "text/plain": [
       "┏━━━━━━━━━━━━━━━━━━━━━━━━━━━┳━━━━━━━━━━━━━━━━━━━━━━━━━━━┓\n",
       "┃\u001B[1m \u001B[0m\u001B[1m       Test metric       \u001B[0m\u001B[1m \u001B[0m┃\u001B[1m \u001B[0m\u001B[1m      DataLoader 0       \u001B[0m\u001B[1m \u001B[0m┃\n",
       "┡━━━━━━━━━━━━━━━━━━━━━━━━━━━╇━━━━━━━━━━━━━━━━━━━━━━━━━━━┩\n",
       "│\u001B[36m \u001B[0m\u001B[36m        test loss        \u001B[0m\u001B[36m \u001B[0m│\u001B[35m \u001B[0m\u001B[35m   1.5565694570541382    \u001B[0m\u001B[35m \u001B[0m│\n",
       "│\u001B[36m \u001B[0m\u001B[36m        test_acc         \u001B[0m\u001B[36m \u001B[0m│\u001B[35m \u001B[0m\u001B[35m   0.5503000020980835    \u001B[0m\u001B[35m \u001B[0m│\n",
       "└───────────────────────────┴───────────────────────────┘\n"
      ],
      "text/html": [
       "<pre style=\"white-space:pre;overflow-x:auto;line-height:normal;font-family:Menlo,'DejaVu Sans Mono',consolas,'Courier New',monospace\">┏━━━━━━━━━━━━━━━━━━━━━━━━━━━┳━━━━━━━━━━━━━━━━━━━━━━━━━━━┓\n",
       "┃<span style=\"font-weight: bold\">        Test metric        </span>┃<span style=\"font-weight: bold\">       DataLoader 0        </span>┃\n",
       "┡━━━━━━━━━━━━━━━━━━━━━━━━━━━╇━━━━━━━━━━━━━━━━━━━━━━━━━━━┩\n",
       "│<span style=\"color: #008080; text-decoration-color: #008080\">         test loss         </span>│<span style=\"color: #800080; text-decoration-color: #800080\">    1.5565694570541382     </span>│\n",
       "│<span style=\"color: #008080; text-decoration-color: #008080\">         test_acc          </span>│<span style=\"color: #800080; text-decoration-color: #800080\">    0.5503000020980835     </span>│\n",
       "└───────────────────────────┴───────────────────────────┘\n",
       "</pre>\n"
      ]
     },
     "metadata": {},
     "output_type": "display_data"
    },
    {
     "data": {
      "text/plain": [
       "<Figure size 800x500 with 1 Axes>"
      ],
      "image/png": "[encoded data removed]"
     },
     "metadata": {},
     "output_type": "display_data"
    },
    {
     "data": {
      "text/plain": [
       "<Figure size 800x600 with 2 Axes>"
      ],
      "image/png": "[encoded data removed]"
     },
     "metadata": {},
     "output_type": "display_data"
    }
   ],
   "execution_count": 25
  },
  {
   "cell_type": "markdown",
   "metadata": {
    "id": "QP8H4jagtJK4"
   },
   "source": [
    "### 2.2 Visualizing Attention Maps"
   ]
  },
  {
   "cell_type": "code",
   "metadata": {
    "id": "VycyoCzotpcE"
   },
   "source": [
    "def visualize_attention(model, image_tensor, patch_size=4):\n",
    "    raise NotImplementedError(\"TODO: Implement this part\")\n"
   ],
   "outputs": [],
   "execution_count": null
  }
 ],
 "metadata": {
  "accelerator": "GPU",
  "colab": {
   "gpuType": "T4",
   "provenance": []
  },
  "kernelspec": {
   "display_name": "Python 3 (ipykernel)",
   "name": "python3",
   "language": "python"
  },
  "language_info": {
   "name": "python"
  }
 },
 "nbformat": 4,
 "nbformat_minor": 0
}
