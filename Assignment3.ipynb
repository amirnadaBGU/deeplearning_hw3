{
 "cells": [
  {
   "cell_type": "markdown",
   "metadata": {
    "id": "V88HswjzApoz"
   },
   "source": [
    "# Deep Learning and Its Applications to Signal and Image Processing and Analysis - Assignment 3\n"
   ]
  },
  {
   "cell_type": "markdown",
   "metadata": {
    "id": "J435x4PWJF0A"
   },
   "source": [
    "## Introduction\n",
    "In this assignment, you will perform an image classification task on the CIFAR-10 dataset using two\n",
    "model families: Convolutional Neural Networks (CNNs) and Vision Transformers (ViTs). The objectives\n",
    "are to develop models, apply explainability tools (Grad-CAM and attention visualization), and evaluate\n",
    "comparative performance using confusion matrices and other metrics. In this assignment, you will also\n",
    "learn how to use the pytorch-lightning library. This library simplifies model building and training, and\n",
    "it also supports automatic logging to Weights & Biases. There is a complementary notebook attached\n",
    "to the assignment. A complementary notebook is provided with this assignment. It is intended for your\n",
    "convenience, and you are free to modify it as needed."
   ]
  },
  {
   "cell_type": "markdown",
   "metadata": {
    "id": "vMV6DvqCNibL"
   },
   "source": "### Imports and mount drive - in this notebook i will work on my own pc. so do not need to use colab syntax"
  },
  {
   "cell_type": "code",
   "metadata": {
    "id": "scJPk5R6GMQu",
    "ExecuteTime": {
     "end_time": "2025-05-09T08:18:02.396176Z",
     "start_time": "2025-05-09T08:17:57.910614Z"
    }
   },
   "source": [
    "from typing import Any\n",
    "\n",
    "import numpy as np\n",
    "# skip this\n",
    "# !pip install pytorch-lightning\n",
    "# skip that\n",
    "# 📦 Imports\n",
    "import torch\n",
    "import torch.nn as nn\n",
    "import torch.nn.functional as F\n",
    "import torchvision\n",
    "import torchvision.transforms as transforms\n",
    "from torch.utils.data import random_split, DataLoader, Subset\n",
    "\n",
    "import pytorch_lightning as pl\n",
    "from pytorch_lightning.loggers import WandbLogger\n",
    "from pytorch_lightning.callbacks import ModelCheckpoint\n",
    "\n",
    "import wandb\n",
    "\n",
    "import matplotlib.pyplot as plt\n",
    "import seaborn as sns\n",
    "from sklearn.metrics import confusion_matrix, ConfusionMatrixDisplay\n",
    "\n",
    "# 🧹 Set seeds and configs\n",
    "pl.seed_everything(42)"
   ],
   "outputs": [
    {
     "name": "stderr",
     "output_type": "stream",
     "text": [
      "Seed set to 42\n"
     ]
    },
    {
     "data": {
      "text/plain": [
       "42"
      ]
     },
     "execution_count": 1,
     "metadata": {},
     "output_type": "execute_result"
    }
   ],
   "execution_count": 1
  },
  {
   "cell_type": "code",
   "metadata": {
    "colab": {
     "base_uri": "https://localhost:8080/"
    },
    "id": "K4gUQ3-MSj4g",
    "outputId": "991b983e-03ba-46e9-cc4c-1670ebc80ee4"
   },
   "source": [
    "# skip this\n",
    "# from google.colab import drive\n",
    "# drive.mount('/content/drive')\n",
    "# skip that"
   ],
   "outputs": [],
   "execution_count": null
  },
  {
   "cell_type": "code",
   "metadata": {
    "id": "OR-WkNcpSqP1"
   },
   "source": [
    "import os\n",
    "# os.chdir('')"
   ],
   "outputs": [],
   "execution_count": null
  },
  {
   "cell_type": "markdown",
   "metadata": {
    "id": "M8XeebVJOK2u"
   },
   "source": [
    "## 1. CNN Classification and Grad-CAM Explainability"
   ]
  },
  {
   "cell_type": "markdown",
   "metadata": {
    "id": "fsyAmozEJN-C"
   },
   "source": [
    "In this section, you will implement a CNN from scratch and apply Grad-CAM to explain the model predictions."
   ]
  },
  {
   "cell_type": "markdown",
   "metadata": {
    "id": "ecrqustYN6kL"
   },
   "source": [
    "###  1.1. Load and Preprocess CIFAR-10"
   ]
  },
  {
   "cell_type": "markdown",
   "metadata": {
    "id": "U9vLbKvJBswB"
   },
   "source": "a. load dataset:"
  },
  {
   "metadata": {
    "id": "1KF7SJaBNnZc",
    "ExecuteTime": {
     "end_time": "2025-05-09T08:18:06.214357Z",
     "start_time": "2025-05-09T08:18:04.885643Z"
    }
   },
   "cell_type": "code",
   "source": [
    "# Define a transform to normalize the data\n",
    "# Widely‑used baseline\n",
    "cifar10_mean = (0.4914, 0.4822, 0.4465)\n",
    "cifar10_std  = (0.2470, 0.2435, 0.2616)\n",
    "\n",
    "# Source for values: https://github.com/kuangliu/pytorch-cifar/issues/19\n",
    "# Source2 for values: https://stackoverflow.com/questions/69747119/pytorch-cifar10-images-are-not-normalized\n",
    "\n",
    "transform = transforms.Compose([\n",
    "    transforms.ToTensor(),\n",
    "    transforms.Normalize(cifar10_mean, cifar10_std),\n",
    "])\n",
    "\n",
    "#⬇️ Load dataset\n",
    "dataset = torchvision.datasets.CIFAR10(root='./data', train=True, download=True, transform=transform)\n",
    "test_dataset = torchvision.datasets.CIFAR10(root='./data', train=False, download=True, transform=transform)\n"
   ],
   "outputs": [],
   "execution_count": 2
  },
  {
   "metadata": {},
   "cell_type": "markdown",
   "source": "a.plot sample images:"
  },
  {
   "metadata": {
    "ExecuteTime": {
     "end_time": "2025-05-09T08:18:08.642657Z",
     "start_time": "2025-05-09T08:18:07.912334Z"
    }
   },
   "cell_type": "code",
   "source": [
    "import random\n",
    "import numpy as np\n",
    "def get_class_name_from_idx(dictionary,idx):\n",
    "    for key, value in dictionary.items():\n",
    "        if value == idx:\n",
    "            return key\n",
    "def show_example_per_label(dataset):\n",
    "    sample_targets = []\n",
    "    sample_indices = []\n",
    "    random.seed(234)\n",
    "    for k,target in enumerate(dataset.targets):\n",
    "        if random.random() < 0.05: # get different images every time\n",
    "            if not target in sample_targets:\n",
    "                sample_indices.append(k)\n",
    "                sample_targets.append(target)\n",
    "    sorted_indices_by_target = np.argsort(sample_targets)\n",
    "\n",
    "    fig, axs = plt.subplots(nrows=2, ncols=5, figsize=(20, 10))\n",
    "\n",
    "    row = 0\n",
    "    index = 0\n",
    "    switchbool= False\n",
    "    for k in sorted_indices_by_target:\n",
    "        axs[row,index]. grid(False)\n",
    "        axs[row,index].set_title(f\"Example of category: {sample_targets[k]} - {get_class_name_from_idx(dataset.class_to_idx,sample_targets[k])}\")\n",
    "        axs[row,index].imshow(dataset.data[sample_indices[k]])\n",
    "        index+=1\n",
    "        if index > 4 and switchbool== False:\n",
    "            switchbool = True\n",
    "            row = 1\n",
    "            index = 0\n",
    "    fig.tight_layout()\n",
    "    plt.show()\n",
    "show_example_per_label(dataset)"
   ],
   "outputs": [
    {
     "data": {
      "text/plain": [
       "<Figure size 2000x1000 with 10 Axes>"
      ],
      "image/png": "[encoded data removed]"
     },
     "metadata": {},
     "output_type": "display_data"
    }
   ],
   "execution_count": 3
  },
  {
   "cell_type": "markdown",
   "metadata": {
    "id": "Z1CCx4koBp9g"
   },
   "source": "b. split - 30k train, 20k valid, 10k test (50,33.33,16.66)"
  },
  {
   "metadata": {
    "ExecuteTime": {
     "end_time": "2025-05-09T08:18:12.751619Z",
     "start_time": "2025-05-09T08:18:12.726035Z"
    }
   },
   "cell_type": "code",
   "source": [
    "from sklearn.model_selection import train_test_split\n",
    "targets = dataset.targets\n",
    "\n",
    "train_idx, valid_idx= train_test_split(\n",
    "    np.arange(len(targets)), test_size=0.4, random_state=42, shuffle=True, stratify=targets)\n",
    "\n",
    "train_dataset = Subset(dataset, train_idx)\n",
    "validation_dataset = Subset(dataset, valid_idx)\n",
    "\n",
    "print(\"Train dataset:\" + str(len(train_dataset)))\n",
    "print(\"Validation dataset:\" + str(len(validation_dataset)))\n",
    "print(\"Test dataset:\" + str(len(test_dataset)))\n"
   ],
   "outputs": [
    {
     "name": "stdout",
     "output_type": "stream",
     "text": [
      "Train dataset:30000\n",
      "Validation dataset:20000\n",
      "Test dataset:10000\n"
     ]
    }
   ],
   "execution_count": 4
  },
  {
   "cell_type": "markdown",
   "metadata": {
    "id": "S5Nc6iLqCt3N"
   },
   "source": "c. preview categories histogram in each dataset"
  },
  {
   "cell_type": "code",
   "metadata": {
    "id": "1e4FXUTRCv86",
    "ExecuteTime": {
     "end_time": "2025-05-09T08:18:15.276437Z",
     "start_time": "2025-05-09T08:18:14.930097Z"
    }
   },
   "source": [
    "def plot_categories_histograms(set,header):\n",
    "    # Extract class labels from the original dataset (Subset stores indices)\n",
    "    # Supports subset or full dataset via try except mechanism on input\n",
    "    try:\n",
    "        labels = [set.dataset.targets[i] for i in set.indices]\n",
    "    except:\n",
    "        labels = [set.targets[i] for i in range(len(set.targets))]\n",
    "    # Creating histogram dicts:\n",
    "    counting_dict={}\n",
    "    for k in range(10):\n",
    "        counting_dict[k]=0\n",
    "    # Count occurrences of each class\n",
    "    for i,value in enumerate(np.array(labels)):\n",
    "        counting_dict[value] +=1\n",
    "\n",
    "    # Extract class indices and corresponding counts\n",
    "    classes = list(counting_dict.keys())\n",
    "    counts = [counting_dict[k] for k in classes]\n",
    "\n",
    "    total = sum(counts)\n",
    "    percentages = [count / total * 100 for count in counts]\n",
    "\n",
    "    # Plotting training set histogram\n",
    "    plt.figure(figsize=(8, 4))\n",
    "    bars = plt.bar(classes, counts)\n",
    "    plt.xlabel('Class')\n",
    "    plt.ylabel('Count')\n",
    "    plt.title(f'{header} Set Class Distribution')\n",
    "    plt.xticks(classes)\n",
    "    plt.tight_layout()\n",
    "\n",
    "    # Add percentage labels on top of bars\n",
    "    for bar, percent in zip(bars, percentages):\n",
    "        height = bar.get_height()\n",
    "        plt.text(bar.get_x() + bar.get_width() / 2, height , f'{percent:.1f}%',\n",
    "                 ha='center', va='bottom', fontsize=10)\n",
    "\n",
    "    plt.tight_layout()\n",
    "    plt.show()\n",
    "\n",
    "plot_categories_histograms(train_dataset, 'Training Set Categories')\n",
    "plot_categories_histograms(validation_dataset, 'Validation Set Categories')\n",
    "plot_categories_histograms(test_dataset, 'Test Set Categories')"
   ],
   "outputs": [
    {
     "data": {
      "text/plain": [
       "<Figure size 800x400 with 1 Axes>"
      ],
      "image/png": "[encoded data removed]"
     },
     "metadata": {},
     "output_type": "display_data"
    },
    {
     "data": {
      "text/plain": [
       "<Figure size 800x400 with 1 Axes>"
      ],
      "image/png": "[encoded data removed]"
     },
     "metadata": {},
     "output_type": "display_data"
    },
    {
     "data": {
      "text/plain": [
       "<Figure size 800x400 with 1 Axes>"
      ],
      "image/png": "[encoded data removed]"
     },
     "metadata": {},
     "output_type": "display_data"
    }
   ],
   "execution_count": 5
  },
  {
   "cell_type": "markdown",
   "metadata": {
    "id": "cycq1A3GOGMm"
   },
   "source": [
    "###  1.2. Define CNN in PyTorch Lightning"
   ]
  },
  {
   "cell_type": "markdown",
   "metadata": {
    "id": "LLEAg2zTDCP1"
   },
   "source": [
    "a."
   ]
  },
  {
   "cell_type": "code",
   "metadata": {
    "id": "n4JO7FXcOFmk",
    "ExecuteTime": {
     "end_time": "2025-05-09T09:08:47.539010Z",
     "start_time": "2025-05-09T09:08:47.528851Z"
    }
   },
   "source": [
    "import torchmetrics\n",
    "\n",
    "class SimpleCNN(pl.LightningModule):\n",
    "    def __init__(self, lr=0.001):\n",
    "        super().__init__()\n",
    "        self.lr = lr\n",
    "        self.loss = nn.CrossEntropyLoss()\n",
    "\n",
    "        self.train_acc = torchmetrics.Accuracy(task=\"multiclass\",\n",
    "                                               num_classes=10)\n",
    "        self.val_acc   = torchmetrics.Accuracy(task=\"multiclass\",\n",
    "                                               num_classes=10)\n",
    "        self.test_acc  = torchmetrics.Accuracy(task=\"multiclass\",\n",
    "                                               num_classes=10)\n",
    "\n",
    "        self.conv_1 = nn.Conv2d(in_channels=3, out_channels=16, kernel_size=3, padding=1)\n",
    "        self.conv_2 = nn.Conv2d(in_channels=16, out_channels=32, kernel_size=3,\n",
    "                                padding=1)\n",
    "        self.mp = nn.MaxPool2d(kernel_size=2, stride=2)\n",
    "        self.conv_3 = nn.Conv2d(in_channels=32, out_channels=64, kernel_size=3,\n",
    "                                padding=1)\n",
    "        self.linear_1 = nn.Linear(4096, 300)\n",
    "        self.relu_1 = nn.ReLU()\n",
    "        self.linear_2 = nn.Linear(300, 10)\n",
    "\n",
    "    def forward(self, x):\n",
    "        x = self.relu_1(self.conv_1(x)) # in: 3x32X32, out: 16x32X32\n",
    "        x = self.relu_1(self.conv_2(x)) # in: 16x32X32, out: 32x32X32\n",
    "        x = self.mp(x) # in: 32X32X32, out: 32X16X16\n",
    "        x = self.relu_1(self.conv_3(x)) # in: 32X16X16, out: 64x16X16\n",
    "        x = self.mp(x) # in: 64x16X16, out: 64x8X8\n",
    "        x = x.reshape(x.size(0), -1) # 64x8x8 = 4096\n",
    "        x = self.relu_1(self.linear_1(x)) # input 4096, output: 300\n",
    "        x = self.linear_2(x) # input 300, output: 3\n",
    "        return x\n",
    "\n",
    "    def training_step(self, batch, batch_idx):\n",
    "        loss, preds, y = self.common_step(batch, batch_idx)\n",
    "        self.train_acc.update(preds,y)\n",
    "        self.log(\"train_acc\",self.train_acc,\n",
    "                 on_step=False,on_epoch=True,prog_bar=True)\n",
    "        self.log('train loss', loss, prog_bar=True)\n",
    "        return loss\n",
    "\n",
    "    def validation_step(self, batch, batch_idx):\n",
    "        loss, preds, y = self.common_step(batch, batch_idx)\n",
    "        self.val_acc.update(preds,y)\n",
    "        self.log(\"val_acc\",self.val_acc,\n",
    "                 on_step=False,on_epoch=True,prog_bar=True)\n",
    "        self.log('validation loss', loss, prog_bar=True)\n",
    "        return loss\n",
    "\n",
    "\n",
    "    def test_step(self, batch, batch_idx):\n",
    "        loss, preds, y = self.common_step(batch, batch_idx)\n",
    "        self.test_acc.update(preds,y)\n",
    "        self.log(\"test_acc\",self.test_acc,\n",
    "                 on_step=False,on_epoch=True,prog_bar=True)\n",
    "        self.log('test loss', loss, prog_bar=True)\n",
    "        return loss\n",
    "\n",
    "    def common_step(self, batch, batch_idx):\n",
    "        x,y = batch\n",
    "        scores = self.forward(x)\n",
    "        loss = self.loss(scores, y)\n",
    "        return loss, scores, y\n",
    "\n",
    "    def predict_step(self,batch,batch_idx):\n",
    "        x,y = batch\n",
    "        scores = self.forward(x)\n",
    "        preds = torch.argmax(scores, dim=1)\n",
    "        return preds\n",
    "\n",
    "    def configure_optimizers(self):\n",
    "        return torch.optim.Adam(self.parameters(), lr=self.lr)"
   ],
   "outputs": [],
   "execution_count": 20
  },
  {
   "metadata": {
    "ExecuteTime": {
     "end_time": "2025-05-09T09:14:25.078349Z",
     "start_time": "2025-05-09T09:12:55.515326Z"
    }
   },
   "cell_type": "code",
   "source": [
    "from pytorch_lightning.callbacks import EarlyStopping\n",
    "\n",
    "BATCH_SIZE = 128\n",
    "train_loader = DataLoader(dataset=train_dataset, batch_size=BATCH_SIZE, shuffle=True)\n",
    "validation_loader = DataLoader(dataset=validation_dataset, batch_size=BATCH_SIZE, shuffle=False)\n",
    "test_loader = DataLoader(dataset=test_dataset, batch_size=BATCH_SIZE, shuffle=False)\n",
    "model = SimpleCNN()\n",
    "\n",
    "early_stop = EarlyStopping(monitor=\"validation loss\",mode=\"min\", patience=5, verbose=True)\n",
    "checkpoint_callback = ModelCheckpoint(save_top_k=1, monitor=\"validation loss\", mode=\"min\",verbose=True)\n",
    "\n",
    "\n",
    "trainer = pl.Trainer(accelerator=\"gpu\",devices=[0],min_epochs=5,max_epochs=25,callbacks=[early_stop,checkpoint_callback])\n",
    "trainer.fit(model,train_loader,validation_loader)"
   ],
   "outputs": [
    {
     "name": "stderr",
     "output_type": "stream",
     "text": [
      "GPU available: True (cuda), used: True\n",
      "TPU available: False, using: 0 TPU cores\n",
      "HPU available: False, using: 0 HPUs\n",
      "LOCAL_RANK: 0 - CUDA_VISIBLE_DEVICES: [0]\n",
      "\n",
      "   | Name      | Type               | Params | Mode \n",
      "----------------------------------------------------------\n",
      "0  | loss      | CrossEntropyLoss   | 0      | train\n",
      "1  | train_acc | MulticlassAccuracy | 0      | train\n",
      "2  | val_acc   | MulticlassAccuracy | 0      | train\n",
      "3  | test_acc  | MulticlassAccuracy | 0      | train\n",
      "4  | conv_1    | Conv2d             | 448    | train\n",
      "5  | conv_2    | Conv2d             | 4.6 K  | train\n",
      "6  | mp        | MaxPool2d          | 0      | train\n",
      "7  | conv_3    | Conv2d             | 18.5 K | train\n",
      "8  | linear_1  | Linear             | 1.2 M  | train\n",
      "9  | relu_1    | ReLU               | 0      | train\n",
      "10 | linear_2  | Linear             | 3.0 K  | train\n",
      "----------------------------------------------------------\n",
      "1.3 M     Trainable params\n",
      "0         Non-trainable params\n",
      "1.3 M     Total params\n",
      "5.023     Total estimated model params size (MB)\n",
      "11        Modules in train mode\n",
      "0         Modules in eval mode\n"
     ]
    },
    {
     "data": {
      "text/plain": [
       "Sanity Checking: |          | 0/? [00:00<?, ?it/s]"
      ],
      "application/vnd.jupyter.widget-view+json": {
       "version_major": 2,
       "version_minor": 0,
       "model_id": "543f0d481a3946fdb378902022824918"
      }
     },
     "metadata": {},
     "output_type": "display_data"
    },
    {
     "data": {
      "text/plain": [
       "Training: |          | 0/? [00:00<?, ?it/s]"
      ],
      "application/vnd.jupyter.widget-view+json": {
       "version_major": 2,
       "version_minor": 0,
       "model_id": "fc56f2b74d18490da643db03c53be070"
      }
     },
     "metadata": {},
     "output_type": "display_data"
    },
    {
     "data": {
      "text/plain": [
       "Validation: |          | 0/? [00:00<?, ?it/s]"
      ],
      "application/vnd.jupyter.widget-view+json": {
       "version_major": 2,
       "version_minor": 0,
       "model_id": "95c16616011646c9a79ca7240f9305d9"
      }
     },
     "metadata": {},
     "output_type": "display_data"
    },
    {
     "name": "stderr",
     "output_type": "stream",
     "text": [
      "Metric validation loss improved. New best score: 1.216\n",
      "Epoch 0, global step 235: 'validation loss' reached 1.21551 (best 1.21551), saving model to 'C:\\\\Users\\\\ndvam\\\\PycharmProjects\\\\deeplearning_hw3\\\\lightning_logs\\\\version_36\\\\checkpoints\\\\epoch=0-step=235.ckpt' as top 1\n"
     ]
    },
    {
     "data": {
      "text/plain": [
       "Validation: |          | 0/? [00:00<?, ?it/s]"
      ],
      "application/vnd.jupyter.widget-view+json": {
       "version_major": 2,
       "version_minor": 0,
       "model_id": "6fc3d86e0a374f5d971204aaac3b6e10"
      }
     },
     "metadata": {},
     "output_type": "display_data"
    },
    {
     "name": "stderr",
     "output_type": "stream",
     "text": [
      "Metric validation loss improved by 0.189 >= min_delta = 0.0. New best score: 1.026\n",
      "Epoch 1, global step 470: 'validation loss' reached 1.02618 (best 1.02618), saving model to 'C:\\\\Users\\\\ndvam\\\\PycharmProjects\\\\deeplearning_hw3\\\\lightning_logs\\\\version_36\\\\checkpoints\\\\epoch=1-step=470.ckpt' as top 1\n"
     ]
    },
    {
     "data": {
      "text/plain": [
       "Validation: |          | 0/? [00:00<?, ?it/s]"
      ],
      "application/vnd.jupyter.widget-view+json": {
       "version_major": 2,
       "version_minor": 0,
       "model_id": "993eb9fd1c5d425aab666e89a81d9494"
      }
     },
     "metadata": {},
     "output_type": "display_data"
    },
    {
     "name": "stderr",
     "output_type": "stream",
     "text": [
      "Metric validation loss improved by 0.077 >= min_delta = 0.0. New best score: 0.949\n",
      "Epoch 2, global step 705: 'validation loss' reached 0.94920 (best 0.94920), saving model to 'C:\\\\Users\\\\ndvam\\\\PycharmProjects\\\\deeplearning_hw3\\\\lightning_logs\\\\version_36\\\\checkpoints\\\\epoch=2-step=705.ckpt' as top 1\n"
     ]
    },
    {
     "data": {
      "text/plain": [
       "Validation: |          | 0/? [00:00<?, ?it/s]"
      ],
      "application/vnd.jupyter.widget-view+json": {
       "version_major": 2,
       "version_minor": 0,
       "model_id": "9db11d8bb3a047788f95a2928eceb46f"
      }
     },
     "metadata": {},
     "output_type": "display_data"
    },
    {
     "name": "stderr",
     "output_type": "stream",
     "text": [
      "Metric validation loss improved by 0.073 >= min_delta = 0.0. New best score: 0.876\n",
      "Epoch 3, global step 940: 'validation loss' reached 0.87591 (best 0.87591), saving model to 'C:\\\\Users\\\\ndvam\\\\PycharmProjects\\\\deeplearning_hw3\\\\lightning_logs\\\\version_36\\\\checkpoints\\\\epoch=3-step=940.ckpt' as top 1\n"
     ]
    },
    {
     "data": {
      "text/plain": [
       "Validation: |          | 0/? [00:00<?, ?it/s]"
      ],
      "application/vnd.jupyter.widget-view+json": {
       "version_major": 2,
       "version_minor": 0,
       "model_id": "7048befe15b74a3e9935fb2f987b65bb"
      }
     },
     "metadata": {},
     "output_type": "display_data"
    },
    {
     "name": "stderr",
     "output_type": "stream",
     "text": [
      "Metric validation loss improved by 0.005 >= min_delta = 0.0. New best score: 0.871\n",
      "Epoch 4, global step 1175: 'validation loss' reached 0.87135 (best 0.87135), saving model to 'C:\\\\Users\\\\ndvam\\\\PycharmProjects\\\\deeplearning_hw3\\\\lightning_logs\\\\version_36\\\\checkpoints\\\\epoch=4-step=1175.ckpt' as top 1\n"
     ]
    },
    {
     "data": {
      "text/plain": [
       "Validation: |          | 0/? [00:00<?, ?it/s]"
      ],
      "application/vnd.jupyter.widget-view+json": {
       "version_major": 2,
       "version_minor": 0,
       "model_id": "f99c1290961a44de9c7c57c7e4e44fa1"
      }
     },
     "metadata": {},
     "output_type": "display_data"
    },
    {
     "name": "stderr",
     "output_type": "stream",
     "text": [
      "Epoch 5, global step 1410: 'validation loss' was not in top 1\n"
     ]
    },
    {
     "data": {
      "text/plain": [
       "Validation: |          | 0/? [00:00<?, ?it/s]"
      ],
      "application/vnd.jupyter.widget-view+json": {
       "version_major": 2,
       "version_minor": 0,
       "model_id": "b4c063a297dc410890419d272c7e73a1"
      }
     },
     "metadata": {},
     "output_type": "display_data"
    },
    {
     "name": "stderr",
     "output_type": "stream",
     "text": [
      "Epoch 6, global step 1645: 'validation loss' was not in top 1\n"
     ]
    },
    {
     "data": {
      "text/plain": [
       "Validation: |          | 0/? [00:00<?, ?it/s]"
      ],
      "application/vnd.jupyter.widget-view+json": {
       "version_major": 2,
       "version_minor": 0,
       "model_id": "cccd336d7b5f4bd6a2ae702512b47c23"
      }
     },
     "metadata": {},
     "output_type": "display_data"
    },
    {
     "name": "stderr",
     "output_type": "stream",
     "text": [
      "Epoch 7, global step 1880: 'validation loss' was not in top 1\n"
     ]
    },
    {
     "data": {
      "text/plain": [
       "Validation: |          | 0/? [00:00<?, ?it/s]"
      ],
      "application/vnd.jupyter.widget-view+json": {
       "version_major": 2,
       "version_minor": 0,
       "model_id": "b7e82df4ba224dc0818282f46beaa024"
      }
     },
     "metadata": {},
     "output_type": "display_data"
    },
    {
     "name": "stderr",
     "output_type": "stream",
     "text": [
      "Epoch 8, global step 2115: 'validation loss' was not in top 1\n"
     ]
    },
    {
     "data": {
      "text/plain": [
       "Validation: |          | 0/? [00:00<?, ?it/s]"
      ],
      "application/vnd.jupyter.widget-view+json": {
       "version_major": 2,
       "version_minor": 0,
       "model_id": "361cdd67ba8c48c79f389c81cad2b0e9"
      }
     },
     "metadata": {},
     "output_type": "display_data"
    },
    {
     "name": "stderr",
     "output_type": "stream",
     "text": [
      "Monitored metric validation loss did not improve in the last 5 records. Best score: 0.871. Signaling Trainer to stop.\n",
      "Epoch 9, global step 2350: 'validation loss' was not in top 1\n"
     ]
    }
   ],
   "execution_count": 24
  },
  {
   "metadata": {
    "ExecuteTime": {
     "end_time": "2025-05-09T09:14:39.938274Z",
     "start_time": "2025-05-09T09:14:36.287993Z"
    }
   },
   "cell_type": "code",
   "source": [
    "best_model = SimpleCNN.load_from_checkpoint(checkpoint_callback.best_model_path)\n",
    "trainer.validate(model=best_model,dataloaders=validation_loader)\n",
    "trainer.test(model=best_model,dataloaders=test_loader)"
   ],
   "outputs": [
    {
     "name": "stderr",
     "output_type": "stream",
     "text": [
      "LOCAL_RANK: 0 - CUDA_VISIBLE_DEVICES: [0]\n"
     ]
    },
    {
     "data": {
      "text/plain": [
       "Validation: |          | 0/? [00:00<?, ?it/s]"
      ],
      "application/vnd.jupyter.widget-view+json": {
       "version_major": 2,
       "version_minor": 0,
       "model_id": "41dff728fabf42a5a5488640fd2f479b"
      }
     },
     "metadata": {},
     "output_type": "display_data"
    },
    {
     "data": {
      "text/plain": [
       "┏━━━━━━━━━━━━━━━━━━━━━━━━━━━┳━━━━━━━━━━━━━━━━━━━━━━━━━━━┓\n",
       "┃\u001B[1m \u001B[0m\u001B[1m     Validate metric     \u001B[0m\u001B[1m \u001B[0m┃\u001B[1m \u001B[0m\u001B[1m      DataLoader 0       \u001B[0m\u001B[1m \u001B[0m┃\n",
       "┡━━━━━━━━━━━━━━━━━━━━━━━━━━━╇━━━━━━━━━━━━━━━━━━━━━━━━━━━┩\n",
       "│\u001B[36m \u001B[0m\u001B[36m         val_acc         \u001B[0m\u001B[36m \u001B[0m│\u001B[35m \u001B[0m\u001B[35m   0.7015500068664551    \u001B[0m\u001B[35m \u001B[0m│\n",
       "│\u001B[36m \u001B[0m\u001B[36m     validation loss     \u001B[0m\u001B[36m \u001B[0m│\u001B[35m \u001B[0m\u001B[35m   0.8713467717170715    \u001B[0m\u001B[35m \u001B[0m│\n",
       "└───────────────────────────┴───────────────────────────┘\n"
      ],
      "text/html": [
       "<pre style=\"white-space:pre;overflow-x:auto;line-height:normal;font-family:Menlo,'DejaVu Sans Mono',consolas,'Courier New',monospace\">┏━━━━━━━━━━━━━━━━━━━━━━━━━━━┳━━━━━━━━━━━━━━━━━━━━━━━━━━━┓\n",
       "┃<span style=\"font-weight: bold\">      Validate metric      </span>┃<span style=\"font-weight: bold\">       DataLoader 0        </span>┃\n",
       "┡━━━━━━━━━━━━━━━━━━━━━━━━━━━╇━━━━━━━━━━━━━━━━━━━━━━━━━━━┩\n",
       "│<span style=\"color: #008080; text-decoration-color: #008080\">          val_acc          </span>│<span style=\"color: #800080; text-decoration-color: #800080\">    0.7015500068664551     </span>│\n",
       "│<span style=\"color: #008080; text-decoration-color: #008080\">      validation loss      </span>│<span style=\"color: #800080; text-decoration-color: #800080\">    0.8713467717170715     </span>│\n",
       "└───────────────────────────┴───────────────────────────┘\n",
       "</pre>\n"
      ]
     },
     "metadata": {},
     "output_type": "display_data"
    },
    {
     "name": "stderr",
     "output_type": "stream",
     "text": [
      "LOCAL_RANK: 0 - CUDA_VISIBLE_DEVICES: [0]\n"
     ]
    },
    {
     "data": {
      "text/plain": [
       "Testing: |          | 0/? [00:00<?, ?it/s]"
      ],
      "application/vnd.jupyter.widget-view+json": {
       "version_major": 2,
       "version_minor": 0,
       "model_id": "54a04952ce03496e9ecce7f112b7d034"
      }
     },
     "metadata": {},
     "output_type": "display_data"
    },
    {
     "data": {
      "text/plain": [
       "┏━━━━━━━━━━━━━━━━━━━━━━━━━━━┳━━━━━━━━━━━━━━━━━━━━━━━━━━━┓\n",
       "┃\u001B[1m \u001B[0m\u001B[1m       Test metric       \u001B[0m\u001B[1m \u001B[0m┃\u001B[1m \u001B[0m\u001B[1m      DataLoader 0       \u001B[0m\u001B[1m \u001B[0m┃\n",
       "┡━━━━━━━━━━━━━━━━━━━━━━━━━━━╇━━━━━━━━━━━━━━━━━━━━━━━━━━━┩\n",
       "│\u001B[36m \u001B[0m\u001B[36m        test loss        \u001B[0m\u001B[36m \u001B[0m│\u001B[35m \u001B[0m\u001B[35m   0.8728660941123962    \u001B[0m\u001B[35m \u001B[0m│\n",
       "│\u001B[36m \u001B[0m\u001B[36m        test_acc         \u001B[0m\u001B[36m \u001B[0m│\u001B[35m \u001B[0m\u001B[35m   0.7026000022888184    \u001B[0m\u001B[35m \u001B[0m│\n",
       "└───────────────────────────┴───────────────────────────┘\n"
      ],
      "text/html": [
       "<pre style=\"white-space:pre;overflow-x:auto;line-height:normal;font-family:Menlo,'DejaVu Sans Mono',consolas,'Courier New',monospace\">┏━━━━━━━━━━━━━━━━━━━━━━━━━━━┳━━━━━━━━━━━━━━━━━━━━━━━━━━━┓\n",
       "┃<span style=\"font-weight: bold\">        Test metric        </span>┃<span style=\"font-weight: bold\">       DataLoader 0        </span>┃\n",
       "┡━━━━━━━━━━━━━━━━━━━━━━━━━━━╇━━━━━━━━━━━━━━━━━━━━━━━━━━━┩\n",
       "│<span style=\"color: #008080; text-decoration-color: #008080\">         test loss         </span>│<span style=\"color: #800080; text-decoration-color: #800080\">    0.8728660941123962     </span>│\n",
       "│<span style=\"color: #008080; text-decoration-color: #008080\">         test_acc          </span>│<span style=\"color: #800080; text-decoration-color: #800080\">    0.7026000022888184     </span>│\n",
       "└───────────────────────────┴───────────────────────────┘\n",
       "</pre>\n"
      ]
     },
     "metadata": {},
     "output_type": "display_data"
    },
    {
     "data": {
      "text/plain": [
       "[{'test_acc': 0.7026000022888184, 'test loss': 0.8728660941123962}]"
      ]
     },
     "execution_count": 25,
     "metadata": {},
     "output_type": "execute_result"
    }
   ],
   "execution_count": 25
  },
  {
   "cell_type": "markdown",
   "metadata": {
    "id": "hdomBb5LOmHq"
   },
   "source": [
    "b. Your model should achieve an accuracy of at least 0.80 on the training set, and at least 0.70 on both the validation and test sets."
   ]
  },
  {
   "cell_type": "code",
   "metadata": {
    "id": "fn0QyuIhOl3D"
   },
   "source": [
    "# 🪄 Init wandb logger\n",
    "wandb_logger = WandbLogger(project=\"CNN-CIFAR10\", log_model=True)\n",
    "\n",
    "# ⚡ Instantiate model and trainer\n",
    "model = SimpleCNN(lr=...)\n",
    "\n",
    "# Define the checkpoint callback\n",
    "checkpoint_callback = ModelCheckpoint(\n",
    "    #raise NotImplementedError(\"TODO: Implement this part\")\n",
    "\n",
    ")\n",
    "\n",
    "trainer = pl.Trainer(\n",
    "    #raise NotImplementedError(\"TODO: Implement this part\")\n",
    ")\n",
    "\n",
    "# 🏋️‍♂️ Train\n",
    "trainer.fit(model, train_loader, val_loader)"
   ],
   "outputs": [],
   "execution_count": null
  },
  {
   "cell_type": "markdown",
   "metadata": {
    "id": "yJR95o9wOusC"
   },
   "source": [
    "c."
   ]
  },
  {
   "cell_type": "code",
   "metadata": {
    "id": "yquHXLVuPCCm"
   },
   "source": [
    "# 🔍 Evaluate\n",
    "trainer.test(model, dataloaders=test_loader)\n",
    "\n",
    "#Show F1 score and confusion matrix you can do it in def on_test_epoch_end(self): and log it to wandb\n",
    "\n",
    "# 💾 Save the model in thr last epoch if saved by metric  \n",
    "torch.save(model.state_dict(), \"cnn_cifar10_checkpoint.ckpt\")"
   ],
   "outputs": [],
   "execution_count": null
  },
  {
   "cell_type": "markdown",
   "metadata": {
    "id": "qOVDHUoifGbs"
   },
   "source": [
    "## 1.3 Explainability with Grad-CAM"
   ]
  },
  {
   "cell_type": "markdown",
   "metadata": {
    "id": "_FG-qhsjfPzT"
   },
   "source": [
    "a."
   ]
  },
  {
   "cell_type": "code",
   "metadata": {
    "id": "IajQrqlhfGNs"
   },
   "source": [
    "!pip install grad-cam --quiet"
   ],
   "outputs": [],
   "execution_count": null
  },
  {
   "cell_type": "code",
   "metadata": {
    "id": "8srEIKxwfWPb"
   },
   "source": [
    "from pytorch_grad_cam import GradCAM\n",
    "from pytorch_grad_cam.utils.image import show_cam_on_image, preprocess_image\n",
    "from pytorch_grad_cam.utils.model_targets import ClassifierOutputTarget\n",
    "\n",
    "# Define the target layer for Grad-CAM (adjust if needed)\n",
    "target_layer = ... # raise NotImplementedError(\"TODO: Implement this part\")\n",
    "\n",
    "cam = GradCAM(model=model, target_layers=[target_layer])\n"
   ],
   "outputs": [],
   "execution_count": null
  },
  {
   "cell_type": "markdown",
   "metadata": {
    "id": "Y_6oN4Wlfndu"
   },
   "source": [
    "generate Grad-CAM heatmaps for several test images"
   ]
  },
  {
   "cell_type": "code",
   "metadata": {
    "id": "A4_NSMx4fqNV"
   },
   "source": [
    "# generate Grad-CAM heatmaps for several test image"
   ],
   "outputs": [],
   "execution_count": null
  },
  {
   "cell_type": "markdown",
   "metadata": {
    "id": "GIBSAFLDj6Q1"
   },
   "source": [
    "## 2. Vision Transformer (ViT) and Attention Visualization\n"
   ]
  },
  {
   "cell_type": "markdown",
   "metadata": {
    "id": "uovuaqHqj8MH"
   },
   "source": [
    "In this section, you will implement a Vision Transformer (ViT) from scratch and compare it to the CNN\n",
    "model developed in Section 1. Additionally, you will visualize attention maps to gain insight into the\n",
    "model’s decision process."
   ]
  },
  {
   "cell_type": "markdown",
   "metadata": {
    "id": "3aq-OFickLAa"
   },
   "source": [
    "### 2.1 Implementing the Vision Transformer"
   ]
  },
  {
   "cell_type": "markdown",
   "metadata": {
    "id": "9XnBOzNKGsCB"
   },
   "source": [
    "a."
   ]
  },
  {
   "cell_type": "code",
   "metadata": {
    "id": "MGbJ7K7JkTel"
   },
   "source": [
    "import torch\n",
    "import torch.nn as nn\n",
    "import torch.nn.functional as F\n",
    "\n",
    "class PatchEmbedding(nn.Module):\n",
    "    def __init__(self, in_channels=..., patch_size=..., emb_size=..., img_size=...):\n",
    "      raise NotImplementedError(\"TODO: Implement this part\")\n",
    "\n",
    "    def forward(self, x):\n",
    "      raise NotImplementedError(\"TODO: Implement this part\")\n",
    "\n",
    "class ViTWithAttention(nn.Module):\n",
    "  def __init__(self, img_size=..., patch_size=..., in_channels=..., num_classes=...,):\n",
    "    raise NotImplementedError(\"TODO: Implement this part\")\n",
    "\n",
    "  def forward(self, x):\n",
    "    raise NotImplementedError(\"TODO: Implement this part\")\n",
    "\n",
    "class ViTLightningModule(pl.LightningModule):\n",
    "  def __init__(self, lr=...):\n",
    "    raise NotImplementedError(\"TODO: Implement this part\")\n",
    "\n",
    "  def forward(self, x):\n",
    "    raise NotImplementedError(\"TODO: Implement this part\")\n",
    "\n",
    "  def training_step(self, batch, batch_idx):\n",
    "    raise NotImplementedError(\"TODO: Implement this part\")\n",
    "\n",
    "  def validation_step(self, batch, batch_idx):\n",
    "    raise NotImplementedError(\"TODO: Implement this part\")\n",
    "  \n",
    "  def test_step(self, batch, batch_idx):\n",
    "    raise NotImplementedError(\"TODO: Implement this part\")\n",
    "\n",
    "  def configure_optimizers(self):\n",
    "    raise NotImplementedError(\"TODO: Implement this part\")"
   ],
   "outputs": [],
   "execution_count": null
  },
  {
   "cell_type": "markdown",
   "metadata": {
    "id": "pDJTV2p6koSR"
   },
   "source": [
    "b. Your model should achieve an accuracy of at least 0.70 on the training set, and at least 0.60 on both the validation and test sets."
   ]
  },
  {
   "cell_type": "code",
   "metadata": {
    "id": "ltGRzNoNkhyG"
   },
   "source": [
    "# 🪄 Init wandb logger\n",
    "wandb_logger = WandbLogger(project=\"ViT-CIFAR10\", log_model=True)\n",
    "\n",
    "# ⚡ Instantiate model and trainer\n",
    "model = ViTLightningModule(lr=...)\n",
    "\n",
    "# Define the checkpoint callback\n",
    "checkpoint_callback = ModelCheckpoint(\n",
    "    # raise NotImplementedError(\"TODO: Implement this part\")\n",
    ")\n",
    "\n",
    "trainer = pl.Trainer(\n",
    "    # raise NotImplementedError(\"TODO: Implement this part\")\n",
    ")\n",
    "\n",
    "# 🏋️‍♂️ Train\n",
    "trainer.fit(model, train_loader, val_loader)"
   ],
   "outputs": [],
   "execution_count": null
  },
  {
   "cell_type": "markdown",
   "metadata": {
    "id": "kDumUnhsHMzQ"
   },
   "source": [
    "c."
   ]
  },
  {
   "cell_type": "code",
   "metadata": {
    "id": "vV6DezK3ruaV"
   },
   "source": [
    "# 🔍 Evaluate\n",
    "trainer.test(model, dataloaders=test_loader)\n",
    "\n",
    "#Show F1 score and confusion matrix you can do it in def on_test_epoch_end(self): and log it to wandb"
   ],
   "outputs": [],
   "execution_count": null
  },
  {
   "cell_type": "markdown",
   "metadata": {
    "id": "QP8H4jagtJK4"
   },
   "source": [
    "### 2.2 Visualizing Attention Maps"
   ]
  },
  {
   "cell_type": "code",
   "metadata": {
    "id": "VycyoCzotpcE"
   },
   "source": [
    "def visualize_attention(model, image_tensor, patch_size=4):\n",
    "    raise NotImplementedError(\"TODO: Implement this part\")\n"
   ],
   "outputs": [],
   "execution_count": null
  }
 ],
 "metadata": {
  "accelerator": "GPU",
  "colab": {
   "gpuType": "T4",
   "provenance": []
  },
  "kernelspec": {
   "display_name": "Python 3 (ipykernel)",
   "name": "python3",
   "language": "python"
  },
  "language_info": {
   "name": "python"
  }
 },
 "nbformat": 4,
 "nbformat_minor": 0
}
